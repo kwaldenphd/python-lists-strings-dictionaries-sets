{
 "cells": [
  {
   "cell_type": "markdown",
   "metadata": {},
   "source": [
    "# Elements of Computing I\n",
    "\n",
    "Student Name: **Enter Your Name Here (Double click to edit)**\n",
    "<br>\n",
    "Net ID: **Enter Your NetID Here (Double click to edit)**\n",
    "<br>\n",
    "Title: **Lists and Strings, Dictionaries and Sets in Python**"
   ]
  },
  {
   "cell_type": "markdown",
   "metadata": {},
   "source": [
    "**Q1: In your own words, explain the difference between `print(hello)` and `print(“hello”)`.**"
   ]
  },
  {
   "cell_type": "markdown",
   "metadata": {},
   "source": [
    "**AnswerQ1**: Your answer here (double click to edit)"
   ]
  },
  {
   "cell_type": "code",
   "execution_count": 17,
   "metadata": {},
   "outputs": [],
   "source": [
    "# your codes here (if needed)"
   ]
  },
  {
   "cell_type": "markdown",
   "metadata": {},
   "source": [
    "**Q2: Describe the syntax of the three commands that we just used (steps 10-14) in your own words. What is this code doing? Define the function and method for each example.**"
   ]
  },
  {
   "cell_type": "markdown",
   "metadata": {},
   "source": [
    "**AnswerQ2**: Your answer here (double click to edit)"
   ]
  },
  {
   "cell_type": "code",
   "execution_count": 18,
   "metadata": {},
   "outputs": [],
   "source": [
    "# your codes here (if needed)"
   ]
  },
  {
   "cell_type": "markdown",
   "metadata": {},
   "source": [
    "**Q3: Explain how each of these two programs (steps 15-18) work in your own words.**"
   ]
  },
  {
   "cell_type": "markdown",
   "metadata": {},
   "source": [
    "**AnswerQ3:** Your answer here (double click to edit)"
   ]
  },
  {
   "cell_type": "code",
   "execution_count": 19,
   "metadata": {},
   "outputs": [],
   "source": [
    "# your codes here (if needed)"
   ]
  },
  {
   "cell_type": "markdown",
   "metadata": {},
   "source": [
    "**Q4: Why does `print(2/3)` return `0`? How would you modify your code to return the decimal number? Why?**"
   ]
  },
  {
   "cell_type": "markdown",
   "metadata": {},
   "source": [
    "**AnswerQ4:** Your answer here (double click to edit)"
   ]
  },
  {
   "cell_type": "code",
   "execution_count": 20,
   "metadata": {},
   "outputs": [],
   "source": [
    "# your codes here (if needed)"
   ]
  },
  {
   "cell_type": "markdown",
   "metadata": {},
   "source": [
    "**Q5: Explain concatenation in your own words. Why must we convert numbers to strings in the program above? Refer to this example and the previous example.**"
   ]
  },
  {
   "cell_type": "markdown",
   "metadata": {},
   "source": [
    "**AnswerQ5:** Your answer here (double click to edit)"
   ]
  },
  {
   "cell_type": "code",
   "execution_count": 21,
   "metadata": {},
   "outputs": [],
   "source": [
    "# your codes here (if needed)"
   ]
  },
  {
   "cell_type": "markdown",
   "metadata": {},
   "source": [
    "**Q6: Write a program that converts integer, float, or boolean values to a string, using the `str()` function.**"
   ]
  },
  {
   "cell_type": "markdown",
   "metadata": {},
   "source": [
    "**AnswerQ6:** Your answer here (double click to edit)"
   ]
  },
  {
   "cell_type": "code",
   "execution_count": 22,
   "metadata": {},
   "outputs": [],
   "source": [
    "# your codes here (if needed)"
   ]
  },
  {
   "cell_type": "markdown",
   "metadata": {},
   "source": [
    "**Q7: Write a program that prompts the user to enter a 6-letter word, and then prints the first, third, and fifth letters of that word.**"
   ]
  },
  {
   "cell_type": "markdown",
   "metadata": {},
   "source": [
    "**AnswerQ7:** Your answer here (double click to edit)"
   ]
  },
  {
   "cell_type": "code",
   "execution_count": 23,
   "metadata": {},
   "outputs": [],
   "source": [
    "# your codes here (if needed)"
   ]
  },
  {
   "cell_type": "markdown",
   "metadata": {},
   "source": [
    "**Q8: Modify the program to have it search for other characters in the string. Does it always return the index number you expect? What index is returned if you ask for the index of the letter u (i.e., what happens when the desired character appears more than once in the string)?**\n",
    "\n",
    "The conversion equation is: `celsius = (fahrenheit - 32.0) * 5.0 / 9.0`"
   ]
  },
  {
   "cell_type": "markdown",
   "metadata": {},
   "source": [
    "**AnswerQ8:** Your answer here (double click to edit)"
   ]
  },
  {
   "cell_type": "code",
   "execution_count": 24,
   "metadata": {},
   "outputs": [],
   "source": [
    "# your codes here (if needed)"
   ]
  },
  {
   "cell_type": "markdown",
   "metadata": {},
   "source": [
    "**Q9: How would you modify this code to output the full range 1-10?**"
   ]
  },
  {
   "cell_type": "markdown",
   "metadata": {},
   "source": [
    "**AnswerQ9:** Your answer here (double click to edit)"
   ]
  },
  {
   "cell_type": "code",
   "execution_count": 25,
   "metadata": {},
   "outputs": [],
   "source": [
    "# your codes here (if needed)"
   ]
  },
  {
   "cell_type": "markdown",
   "metadata": {},
   "source": [
    "**Q10: How would you rewrite the code to include only the even numbers from 1 to 10?**"
   ]
  },
  {
   "cell_type": "markdown",
   "metadata": {},
   "source": [
    "**AnswerQ10:** Your answer here (double click to edit)"
   ]
  },
  {
   "cell_type": "code",
   "execution_count": 26,
   "metadata": {},
   "outputs": [],
   "source": [
    "# your codes here (if needed)"
   ]
  },
  {
   "cell_type": "markdown",
   "metadata": {},
   "source": [
    "<strong>Q11: Create the list `numbers` with the following values: `[[0, 1], [2, 3], [4, 5]]`\n",
    "<ol type=\"a\">\n",
    "  <li>What is the second element?</li>\n",
    "  <li>How would you change 4 to 'four'?</li>\n",
    "  <li>How would you change 1 to 'one'?</li>\n",
    "  <li>How would you print out each sub-list (one sub-list per line)?</li>\n",
    "  <li>How would you print out each number (one number per line)?</li>\n",
    " </ol></strong>"
   ]
  },
  {
   "cell_type": "markdown",
   "metadata": {},
   "source": [
    "**AnswerQ11:** Your answer here (double click to edit)"
   ]
  },
  {
   "cell_type": "code",
   "execution_count": 27,
   "metadata": {},
   "outputs": [],
   "source": [
    "# your codes here (if needed)"
   ]
  },
  {
   "cell_type": "markdown",
   "metadata": {},
   "source": [
    "**Q12: Create your own list of numbers. Include your list code as part of this question answer. What is the length of your list? What is the number position for each of the items in your list? How would you return the value of the first item? How would you return the value of the last item?**"
   ]
  },
  {
   "cell_type": "markdown",
   "metadata": {},
   "source": [
    "**AnswerQ12:** Your answer here (double click to edit)"
   ]
  },
  {
   "cell_type": "code",
   "execution_count": 28,
   "metadata": {},
   "outputs": [],
   "source": [
    "# your codes here (if needed)"
   ]
  },
  {
   "cell_type": "markdown",
   "metadata": {},
   "source": [
    "<strong>Q13: Using the same list from the previous question, write a program that includes the following steps or components:\n",
    "<ol type=\"a\">\n",
    " <li>Adds a new item to your list</li>\n",
    " <li>Deletes an item from your list</li>\n",
    " <li>Sorts your list in-place</li>\n",
    " <li>Generates a sorted version of your list</li>\n",
    " <li>Reverse sorts your list in-place</li>\n",
    " <li>Generates a reverse sorted version of your list</li>\n",
    " <li>Determines the <code>min</code> and <code>max</code> values for your list</li>\n",
    " <li>Selects an list element at random</li>\n",
    " <li>Shuffles your list</li>\n",
    "</ol></strong>"
   ]
  },
  {
   "cell_type": "markdown",
   "metadata": {},
   "source": [
    "**AnswerQ13:** Your answer here (double click to edit)"
   ]
  },
  {
   "cell_type": "code",
   "execution_count": 29,
   "metadata": {},
   "outputs": [],
   "source": [
    "# your codes here (if needed)"
   ]
  },
  {
   "cell_type": "markdown",
   "metadata": {},
   "source": [
    "**Q14: Create your own list of strings. Include your list code as part of this question answer. What is the length of your list? What is the number position for each of the items in your list? How would you return the value of the first item? How would you return the value of the last item?**"
   ]
  },
  {
   "cell_type": "markdown",
   "metadata": {},
   "source": [
    "**AnswerQ14:** Your answer here (double click to edit)"
   ]
  },
  {
   "cell_type": "code",
   "execution_count": 30,
   "metadata": {},
   "outputs": [],
   "source": [
    "# your codes here (if needed)"
   ]
  },
  {
   "cell_type": "markdown",
   "metadata": {},
   "source": [
    "<strong>Q15: Using the same list from the previous question, write a program that includes the following steps or components:\n",
    "<ol type=\"a\">\n",
    " <li>Adds a new item to your list</li>\n",
    " <li>Deletes an item from your list</li>\n",
    " <li>Sorts your list in-place</li>\n",
    " <li>Generates a sorted version of your list</li>\n",
    " <li>Reverse sorts your list in-place</li>\n",
    " <li>Generates a reverse sorted version of your list</li>\n",
    " <li>Determines the <code>min</code> and <code>max</code> values for your list</li>\n",
    " <li>Selects an list element at random</li>\n",
    " <li>Shuffles your list</li>\n",
    "</ol></strong>"
   ]
  },
  {
   "cell_type": "markdown",
   "metadata": {},
   "source": [
    "**AnswerQ15:** Your answer here (double click to edit)"
   ]
  },
  {
   "cell_type": "code",
   "execution_count": 31,
   "metadata": {},
   "outputs": [],
   "source": [
    "# your codes here (if needed)"
   ]
  },
  {
   "cell_type": "markdown",
   "metadata": {},
   "source": [
    "<strong>Q16: Create a dictionary on a topic of your choosing. Include at least 7 key-value pairs.\n",
    "<ol type=\"a\">\n",
    " <li>Add new elements to your dictionary.</li>\n",
    " <li>Update an element in your dictionary.</li>\n",
    " <li>Print a list of all the keys in your dictionary.</li>\n",
    " <li>Print a list of all the values in your dictionary.</li>\n",
    " </ol></strong>"
   ]
  },
  {
   "cell_type": "markdown",
   "metadata": {},
   "source": [
    "**AnswerQ16:** Your answer here (double click to edit)"
   ]
  },
  {
   "cell_type": "code",
   "execution_count": 32,
   "metadata": {},
   "outputs": [],
   "source": [
    "# your codes here (if needed)"
   ]
  },
  {
   "cell_type": "markdown",
   "metadata": {},
   "source": [
    "<strong>Q17: Create the set `s` with the following values: `[1, 3, 5, 7, 9]`\n",
    "<ol type=\"a\">\n",
    "  <li>Test to see if the value <code>11</code> is a member of the set.</li>\n",
    "  <li>Test to see if the value <code>7</code> is a member of the set.</li>\n",
    "  <li>Add a value to the set.</li>\n",
    "  <li>Remove a value from the set.</li>\n",
    " </ol></strong>"
   ]
  },
  {
   "cell_type": "markdown",
   "metadata": {},
   "source": [
    "**AnswerQ17:** Your answer here (double click to edit)"
   ]
  },
  {
   "cell_type": "code",
   "execution_count": 33,
   "metadata": {},
   "outputs": [],
   "source": [
    "# your codes here (if needed)"
   ]
  },
  {
   "cell_type": "markdown",
   "metadata": {},
   "source": [
    "**Q18: What is the difference between a `list` and a `string`? What are some methods you can perform on a `list` that you can't do with a `string` (and vice versa)?**"
   ]
  },
  {
   "cell_type": "markdown",
   "metadata": {},
   "source": [
    "**AnswerQ18:** Your answer here (double click to edit)"
   ]
  },
  {
   "cell_type": "code",
   "execution_count": 34,
   "metadata": {},
   "outputs": [],
   "source": [
    "# your codes here (if needed)"
   ]
  },
  {
   "cell_type": "markdown",
   "metadata": {},
   "source": [
    "**Q19: What is the difference between a `list` and a `dict`? When would we prefer one over the other?**"
   ]
  },
  {
   "cell_type": "markdown",
   "metadata": {},
   "source": [
    "**AnswerQ19:** Your answer here (double click to edit)"
   ]
  },
  {
   "cell_type": "code",
   "execution_count": 35,
   "metadata": {},
   "outputs": [],
   "source": [
    "# your codes here (if needed)"
   ]
  }
 ],
 "metadata": {
  "kernelspec": {
   "display_name": "Python 3",
   "language": "python",
   "name": "python3"
  },
  "language_info": {
   "codemirror_mode": {
    "name": "ipython",
    "version": 3
   },
   "file_extension": ".py",
   "mimetype": "text/x-python",
   "name": "python",
   "nbconvert_exporter": "python",
   "pygments_lexer": "ipython3",
   "version": "3.8.5"
  }
 },
 "nbformat": 4,
 "nbformat_minor": 4
}
