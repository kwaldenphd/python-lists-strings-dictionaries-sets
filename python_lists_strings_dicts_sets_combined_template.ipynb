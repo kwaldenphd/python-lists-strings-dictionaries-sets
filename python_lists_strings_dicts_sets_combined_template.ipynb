{
  "cells": [
    {
      "cell_type": "markdown",
      "metadata": {
        "id": "view-in-github",
        "colab_type": "text"
      },
      "source": [
        "<a href=\"https://colab.research.google.com/github/kwaldenphd/python-lists-strings-dictionaries-sets/blob/main/python_lists_strings_dicts_sets_combined_template.ipynb\" target=\"_parent\"><img src=\"https://colab.research.google.com/assets/colab-badge.svg\" alt=\"Open In Colab\"/></a>"
      ]
    },
    {
      "cell_type": "markdown",
      "metadata": {
        "id": "wXOjJ-cvyCh5"
      },
      "source": [
        "# Lists and Strings, Dictionaries and Sets in Python\n",
        "\n",
        "Student Name: **Enter Your Name Here (Double click to edit)**\n",
        "<br>\n",
        "Net ID: **Enter Your NetID Here (Double click to edit)**\n",
        "<br>"
      ]
    },
    {
      "cell_type": "markdown",
      "source": [
        "## Lab Notebook Questions"
      ],
      "metadata": {
        "id": "090jl3eF5ILi"
      }
    },
    {
      "cell_type": "markdown",
      "metadata": {
        "id": "qNQfBcrZyCh-"
      },
      "source": [
        "### **Q1: In your own words, explain the difference between `print(hello)` and `print(“hello”)`.**"
      ]
    },
    {
      "cell_type": "markdown",
      "metadata": {
        "id": "J7XT7ODHyCiA"
      },
      "source": [
        "**AnswerQ1**: Your answer here (double click to edit)"
      ]
    },
    {
      "cell_type": "code",
      "execution_count": null,
      "metadata": {
        "id": "KOTjLGqqyCiE"
      },
      "outputs": [],
      "source": [
        "# your codes here (if needed)"
      ]
    },
    {
      "cell_type": "markdown",
      "metadata": {
        "id": "ZBSshhY4yCiW"
      },
      "source": [
        "### **Q2: Describe the syntax of the following three `print()` statements in your own words. What is this code doing? Define the function and method for each example.**"
      ]
    },
    {
      "cell_type": "code",
      "source": [
        "# Q2 examples\n",
        "name = \"katherine walden\"\n",
        "print(name.title())\n",
        "print(name.upper())\n",
        "print(name.lower())"
      ],
      "metadata": {
        "id": "JNxwd1JtCW4-"
      },
      "execution_count": null,
      "outputs": []
    },
    {
      "cell_type": "markdown",
      "metadata": {
        "id": "-9no_CTzyCiZ"
      },
      "source": [
        "**AnswerQ2**: Your answer here (double click to edit)"
      ]
    },
    {
      "cell_type": "code",
      "execution_count": null,
      "metadata": {
        "id": "SeV9r8-SyCib"
      },
      "outputs": [],
      "source": [
        "# your codes here (if needed)"
      ]
    },
    {
      "cell_type": "markdown",
      "metadata": {
        "id": "fR6WSQF2Klpb"
      },
      "source": [
        "### **Q3: Explain how each of these two programs (steps 20-23) work in your own words.**"
      ]
    },
    {
      "cell_type": "code",
      "source": [
        "# step 20 program\n",
        "# assign string variables\n",
        "first_name = \"katherine\"\n",
        "last_name \"walden\"\n",
        "\n",
        "# use concatenation to create new variable\n",
        "full_name = first_name + \" \" + last name\n",
        "\n",
        "# output last variable\n",
        "print(full_name)"
      ],
      "metadata": {
        "id": "HRl0ORKKFaUD"
      },
      "execution_count": null,
      "outputs": []
    },
    {
      "cell_type": "code",
      "source": [
        "# step 21 program\n",
        "# assign string variables\n",
        "first_name = \"katherine\"\n",
        "last_name = \"walden\"\n",
        "\n",
        "# use concatenation to create new variable\n",
        "full_name = first_name + \" \" + last name\n",
        "# output last variable in title case as part of print statement\n",
        "print(\"Hello, \" + full_name.title() + \"!\")"
      ],
      "metadata": {
        "id": "VCkxYk2gFba4"
      },
      "execution_count": null,
      "outputs": []
    },
    {
      "cell_type": "code",
      "source": [
        "# step 23 program\n",
        "# assign string variables\n",
        "first_name = \"katherine\"\n",
        "last_name = \"walden\"\n",
        "\n",
        "# use concatenation to create new variable\n",
        "full_name = first_name + \" \" + last name\n",
        "\n",
        "# use concatenation to create new variable\n",
        "sentence=\"Hello, \" + full_name.title() + \"!\"\n",
        "\n",
        "# output last variable\n",
        "print(sentence)"
      ],
      "metadata": {
        "id": "jV8WILBLFcf0"
      },
      "execution_count": null,
      "outputs": []
    },
    {
      "cell_type": "markdown",
      "metadata": {
        "id": "6O5Bdtv7yCie"
      },
      "source": [
        "**AnswerQ3:** Your answer here (double click to edit)"
      ]
    },
    {
      "cell_type": "code",
      "execution_count": null,
      "metadata": {
        "id": "fxEp2SyKyCit"
      },
      "outputs": [],
      "source": [
        "# your codes here (if needed)"
      ]
    },
    {
      "cell_type": "markdown",
      "metadata": {
        "id": "JcpdK2tQyCiv"
      },
      "source": [
        "### **Q4: Why does `print(2//3)` return `0`? How would you modify your code to return the decimal number? Why?**"
      ]
    },
    {
      "cell_type": "markdown",
      "metadata": {
        "id": "8qT_HSz8yCi2"
      },
      "source": [
        "**AnswerQ4:** Your answer here (double click to edit)"
      ]
    },
    {
      "cell_type": "code",
      "execution_count": null,
      "metadata": {
        "id": "3u0ybT9ByCi5"
      },
      "outputs": [],
      "source": [
        "# your codes here (if needed"
      ]
    },
    {
      "cell_type": "markdown",
      "metadata": {
        "id": "61E0cFgAKrB_"
      },
      "source": [
        "### **Q5: Explain concatenation in your own words. Why must we convert numbers to strings in the program above? Refer to the examples in step 27 and 30.**"
      ]
    },
    {
      "cell_type": "code",
      "source": [
        "# step 27 example\n",
        "# assign string variable\n",
        "course_name=\"Elements of Computing I\"\n",
        "\n",
        "# assign integer variable\n",
        "course_number = 10101\n",
        "\n",
        "# concatenation in print statement\n",
        "print(\"Welcome to \" + course_name.title() + \" CSE:\" + course_number)"
      ],
      "metadata": {
        "id": "G1InKpRFFhjV"
      },
      "execution_count": null,
      "outputs": []
    },
    {
      "cell_type": "code",
      "source": [
        "# step 30 example\n",
        "# concatenation in print statement, using str function to convert course number\n",
        "print(\"Welcome to \" + course_name.title() + \" CSE:\" + str(course_number))"
      ],
      "metadata": {
        "id": "pg4Cy9VsFiTR"
      },
      "execution_count": null,
      "outputs": []
    },
    {
      "cell_type": "markdown",
      "metadata": {
        "id": "XBasuy-YyCi_"
      },
      "source": [
        "**AnswerQ5:** Your answer here (double click to edit)"
      ]
    },
    {
      "cell_type": "code",
      "execution_count": null,
      "metadata": {
        "id": "YeleeUE2yCjC"
      },
      "outputs": [],
      "source": [
        "# your codes here (if needed)"
      ]
    },
    {
      "cell_type": "markdown",
      "metadata": {
        "id": "LomCeswByCjH"
      },
      "source": [
        "### **Q6: Write a program that converts integer, float, or boolean values to a string, using the `str()` function.**"
      ]
    },
    {
      "cell_type": "markdown",
      "metadata": {
        "id": "F8hCj6-lyCjK"
      },
      "source": [
        "**AnswerQ6:** Your answer here (double click to edit)"
      ]
    },
    {
      "cell_type": "code",
      "execution_count": null,
      "metadata": {
        "id": "Y8UnnstuyCjN"
      },
      "outputs": [],
      "source": [
        "# your codes here (if needed)"
      ]
    },
    {
      "cell_type": "markdown",
      "metadata": {
        "id": "Zmb8XF73yCjP"
      },
      "source": [
        "### **Q7: Write a program that prompts the user to enter a 6-letter word, and then prints the first, third, and fifth letters of that word.**"
      ]
    },
    {
      "cell_type": "markdown",
      "metadata": {
        "id": "wjMT2cLCyCjQ"
      },
      "source": [
        "**AnswerQ7:** Your answer here (double click to edit)"
      ]
    },
    {
      "cell_type": "code",
      "execution_count": null,
      "metadata": {
        "id": "ytPODsOoyCjR"
      },
      "outputs": [],
      "source": [
        "# your codes here (if needed)"
      ]
    },
    {
      "cell_type": "markdown",
      "metadata": {
        "id": "MdP0txZsyCjS"
      },
      "source": [
        "### **Q8: Modify the program to have it search for other characters in the string. Does it always return the index number you expect? What index is returned if you ask for the index of the letter u (i.e., what happens when the desired character appears more than once in the string)?**"
      ]
    },
    {
      "cell_type": "code",
      "source": [
        "# program you're modifying for Q8\n",
        "# assign string variable\n",
        "color = \"turquoise\"\n",
        "\n",
        "# get index number of q character\n",
        "index_number = color.index(\"q\")\n",
        "\n",
        "# show index number as part of print statement\n",
        "print (\"The index number for the letter q within the word \" + color + \" is \" + index_number)"
      ],
      "metadata": {
        "id": "Jfwp9nwJFmpD"
      },
      "execution_count": null,
      "outputs": []
    },
    {
      "cell_type": "markdown",
      "metadata": {
        "id": "Qi8NGiyjyCjV"
      },
      "source": [
        "**AnswerQ8:** Your answer here (double click to edit)"
      ]
    },
    {
      "cell_type": "code",
      "execution_count": null,
      "metadata": {
        "id": "eRFj1FV1yCjW"
      },
      "outputs": [],
      "source": [
        "# your codes here (if needed)"
      ]
    },
    {
      "cell_type": "markdown",
      "metadata": {
        "id": "nQ4wr2DzyCjY"
      },
      "source": [
        "### **Q9: How would you modify this code to output the full range 1-10?**"
      ]
    },
    {
      "cell_type": "code",
      "source": [
        "# program you're modifying for Q9\n",
        "# create list of numbers\n",
        "numbers = list(range(1,10))\n",
        "\n",
        "# show list of numbers\n",
        "print(numbers)"
      ],
      "metadata": {
        "id": "vBIGZmnHFoZD"
      },
      "execution_count": null,
      "outputs": []
    },
    {
      "cell_type": "markdown",
      "metadata": {
        "id": "h3TrqQ0JyCja"
      },
      "source": [
        "**AnswerQ9:** Your answer here (double click to edit)"
      ]
    },
    {
      "cell_type": "code",
      "execution_count": null,
      "metadata": {
        "id": "heSufaNiyCjb"
      },
      "outputs": [],
      "source": [
        "# your codes here (if needed)"
      ]
    },
    {
      "cell_type": "markdown",
      "metadata": {
        "id": "mS1x6NSXyCje"
      },
      "source": [
        "### **Q10: How would you rewrite the code to include only the even numbers from 1 to 10?**"
      ]
    },
    {
      "cell_type": "code",
      "source": [
        "# program you're modifying for Q10\n",
        "# create list of numbers with specific start/stop/step interval values\n",
        "numbers = list(range(1,11,2))\n",
        "\n",
        "# show list\n",
        "print(numbers)"
      ],
      "metadata": {
        "id": "KAxLLFuZFpsn"
      },
      "execution_count": null,
      "outputs": []
    },
    {
      "cell_type": "markdown",
      "metadata": {
        "id": "5b6CFb4dyCje"
      },
      "source": [
        "**AnswerQ10:** Your answer here (double click to edit)"
      ]
    },
    {
      "cell_type": "code",
      "execution_count": null,
      "metadata": {
        "id": "0o_x4rkayCjf"
      },
      "outputs": [],
      "source": [
        "# your codes here (if needed)"
      ]
    },
    {
      "cell_type": "markdown",
      "metadata": {
        "id": "PATZ-sS5yCji"
      },
      "source": [
        "### <strong>Q11: Create the list `numbers` with the following values: `[[0, 1], [2, 3], [4, 5]]`\n",
        "<ol type=\"a\">\n",
        "  <li>What is the second element?</li>\n",
        "  <li>How would you change 4 to 'four'?</li>\n",
        "  <li>How would you change 1 to 'one'?</li>\n",
        "  <li>How would you print out each sub-list (one sub-list per line)?</li>\n",
        "  <li>How would you print out each number (one number per line)?</li>\n",
        " </ol></strong>"
      ]
    },
    {
      "cell_type": "markdown",
      "metadata": {
        "id": "9V-Kb-tUyCjj"
      },
      "source": [
        "**AnswerQ11:** Your answer here (double click to edit)"
      ]
    },
    {
      "cell_type": "code",
      "execution_count": null,
      "metadata": {
        "id": "7AEcGLf8K5si"
      },
      "outputs": [],
      "source": [
        "# your codes here (double click to edit)\n",
        "\n",
        "# create list of numbers\n",
        "\n",
        "# second element\n",
        "\n",
        "# change 4 to four\n",
        "\n",
        "# change 1 to one\n",
        "\n",
        "# print out each sub-list\n",
        "\n",
        "# print out each number"
      ]
    },
    {
      "cell_type": "markdown",
      "metadata": {
        "id": "moqDnf9wyCjp"
      },
      "source": [
        "### **Q12: Create your own list of numbers. Include your list code as part of this question answer. What is the length of your list? What is the number position for each of the items in your list? How would you return the value of the first item? How would you return the value of the last item?**"
      ]
    },
    {
      "cell_type": "markdown",
      "metadata": {
        "id": "FqxTyBSVyCjq"
      },
      "source": [
        "**AnswerQ12:** Your answer here (double click to edit)"
      ]
    },
    {
      "cell_type": "code",
      "execution_count": null,
      "metadata": {
        "id": "UHN76OeeK73J"
      },
      "outputs": [],
      "source": [
        "# your codes here (double click to edit)\n",
        "\n",
        "# create list of numbers\n",
        "\n",
        "# list length\n",
        "\n",
        "# index for each list item\n",
        "\n",
        "# value of first item\n",
        "\n",
        "# value of last item\n"
      ]
    },
    {
      "cell_type": "markdown",
      "metadata": {
        "id": "yrVxxQP5yCjt"
      },
      "source": [
        "### <strong>Q13: Using the same list from the previous question, write a program that includes the following steps or components:\n",
        "<ol type=\"a\">\n",
        " <li>Adds a new item to your list</li>\n",
        " <li>Deletes an item from your list</li>\n",
        " <li>Sorts your list in-place</li>\n",
        " <li>Reverses your list in-place</li>\n",
        " <li>Determines the <code>min</code> and <code>max</code> values for your list</li>\n",
        " <li>Selects an list element at random</li>\n",
        " <li>Shuffles your list</li>\n",
        "</ol></strong>"
      ]
    },
    {
      "cell_type": "markdown",
      "metadata": {
        "id": "5KprEOVsyCju"
      },
      "source": [
        "**AnswerQ13:** Your answer here (double click to edit)"
      ]
    },
    {
      "cell_type": "code",
      "execution_count": null,
      "metadata": {
        "id": "_TqzjsWUK9ub"
      },
      "outputs": [],
      "source": [
        "# your codes here (double click to edit)\n",
        "\n",
        "# add new item to list\n",
        "\n",
        "# deletes item from list\n",
        "\n",
        "# sorts list in-place\n",
        "\n",
        "# reverses list in-place\n",
        "\n",
        "# determine max and min values\n",
        "\n",
        "# select random list element\n",
        "\n",
        "# shuffle list"
      ]
    },
    {
      "cell_type": "markdown",
      "metadata": {
        "id": "UZTTlA3hyCjw"
      },
      "source": [
        "### **Q14: Create your own list of strings. Include your list code as part of this question answer. What is the length of your list? What is the number position for each of the items in your list? How would you return the value of the first item? How would you return the value of the last item?**"
      ]
    },
    {
      "cell_type": "markdown",
      "metadata": {
        "id": "gUxsHSt3yCjy"
      },
      "source": [
        "**AnswerQ14:** Your answer here (double click to edit)"
      ]
    },
    {
      "cell_type": "code",
      "execution_count": null,
      "metadata": {
        "id": "Ti9_UVdnK_pC"
      },
      "outputs": [],
      "source": [
        "# your codes here (double click to edit)\n",
        "\n",
        "# create list\n",
        "\n",
        "# list length\n",
        "\n",
        "# index for each list item\n",
        "\n",
        "# value of first item\n",
        "\n",
        "# value of last item"
      ]
    },
    {
      "cell_type": "markdown",
      "metadata": {
        "id": "NgQh6kxQyCj0"
      },
      "source": [
        "### <strong>Q15: Using the same list from the previous question, write a program that includes the following steps or components:\n",
        "<ol type=\"a\">\n",
        " <li>Adds a new item to your list</li>\n",
        " <li>Deletes an item from your list</li>\n",
        " <li>Sorts your list in-place</li>\n",
        " <li>Generates a sorted version of your list</li>\n",
        " <li>Reverses your list in-place</li>\n",
        " <li>Determines the <code>min</code> and <code>max</code> values for your list</li>\n",
        " <li>Selects an list element at random</li>\n",
        " <li>Shuffles your list</li>\n",
        "</ol></strong>"
      ]
    },
    {
      "cell_type": "markdown",
      "metadata": {
        "id": "4jQMDDPwyCj3"
      },
      "source": [
        "**AnswerQ15:** Your answer here (double click to edit)"
      ]
    },
    {
      "cell_type": "code",
      "execution_count": null,
      "metadata": {
        "id": "sXogk9YpLBUb"
      },
      "outputs": [],
      "source": [
        "# your codes here (double click to edit)\n",
        "\n",
        "# add new item to list\n",
        "\n",
        "# deletes item from list\n",
        "\n",
        "# sorts list in-place\n",
        "\n",
        "# generates sorted version of list\n",
        "\n",
        "# reverses list in-place\n",
        "\n",
        "# determine max and min values\n",
        "\n",
        "# select random list element\n",
        "\n",
        "# shuffle list"
      ]
    },
    {
      "cell_type": "markdown",
      "metadata": {
        "id": "g2eDk4vTyCj8"
      },
      "source": [
        "### <strong>Q16: What is the difference between a list and a string? What are some methods you can perform on a list  that you can't do with a string (and vice versa)?</strong>"
      ]
    },
    {
      "cell_type": "markdown",
      "metadata": {
        "id": "zC5IK4isyCj9"
      },
      "source": [
        "**AnswerQ16:** Your answer here (double click to edit)"
      ]
    },
    {
      "cell_type": "code",
      "execution_count": null,
      "metadata": {
        "id": "7WJFqsNbyCj-"
      },
      "outputs": [],
      "source": [
        "# your codes here (if needed)"
      ]
    },
    {
      "cell_type": "markdown",
      "metadata": {
        "id": "KM5GqdfXBh1y"
      },
      "source": [
        "### <strong>Q17: Create a dictionary on a topic of your choosing. Include at least 7 key-value pairs.\n",
        "<ol type=\"a\">\n",
        " <li>Add new elements to your dictionary.</li>\n",
        " <li>Update an element in your dictionary.</li>\n",
        " <li>Print a list of all the keys in your dictionary.</li>\n",
        " <li>Print a list of all the values in your dictionary.</li>\n",
        " </ol></strong>"
      ]
    },
    {
      "cell_type": "markdown",
      "metadata": {
        "id": "xQKmkjKKBjhD"
      },
      "source": [
        "**AnswerQ17:** Your answer here (double click to edit)"
      ]
    },
    {
      "cell_type": "code",
      "execution_count": null,
      "metadata": {
        "id": "TY7nSyTCBldB"
      },
      "outputs": [],
      "source": [
        "# your codes here (double click to edit)\n",
        "\n",
        "# create dictionary\n",
        "\n",
        "# add new element\n",
        "\n",
        "# update element\n",
        "\n",
        "# output keys\n",
        "\n",
        "# output values"
      ]
    },
    {
      "cell_type": "markdown",
      "metadata": {
        "id": "6923xltoBij9"
      },
      "source": [
        "### <strong>Q18: Create the set `s` with the following values: `[1, 3, 5, 7, 9]`\n",
        "<ol type=\"a\">\n",
        "  <li>Test to see if the value <code>11</code> is a member of the set.</li>\n",
        "  <li>Test to see if the value <code>7</code> is a member of the set.</li>\n",
        "  <li>Add a value to the set.</li>\n",
        "  <li>Remove a value from the set.</li>\n",
        " </ol></strong>"
      ]
    },
    {
      "cell_type": "markdown",
      "metadata": {
        "id": "RBoWLDLXBjwC"
      },
      "source": [
        "**AnswerQ18:** Your answer here (double click to edit)"
      ]
    },
    {
      "cell_type": "code",
      "execution_count": null,
      "metadata": {
        "id": "SP-0UPmtBlx6"
      },
      "outputs": [],
      "source": [
        "# your codes here (double click to edit)\n",
        "\n",
        "# create set\n",
        "\n",
        "# test for 11\n",
        "\n",
        "# test for 7\n",
        "\n",
        "# add value\n",
        "\n",
        "# remove value"
      ]
    },
    {
      "cell_type": "markdown",
      "metadata": {
        "id": "6q6WE139BiuZ"
      },
      "source": [
        "### <strong>Q19: What is the difference between a `list` and a `dict`? When would we prefer one over the other?</strong>"
      ]
    },
    {
      "cell_type": "markdown",
      "metadata": {
        "id": "mDPIQozYBj-E"
      },
      "source": [
        "**AnswerQ19:** Your answer here (double click to edit)"
      ]
    },
    {
      "cell_type": "code",
      "execution_count": null,
      "metadata": {
        "id": "msCrpg3aBmAp"
      },
      "outputs": [],
      "source": [
        "# your codes here (if needed)"
      ]
    },
    {
      "cell_type": "markdown",
      "metadata": {
        "id": "r8d97vg2Bi4Z"
      },
      "source": [
        "### <strong>Q20: What is the difference between a `dict` and a `set`? When would we prefer one over the other?</strong>"
      ]
    },
    {
      "cell_type": "markdown",
      "metadata": {
        "id": "M58fuNKLBkTi"
      },
      "source": [
        "**AnswerQ20:** Your answer here (double click to edit)"
      ]
    },
    {
      "cell_type": "code",
      "execution_count": null,
      "metadata": {
        "id": "MuL5Ju8JBmWh"
      },
      "outputs": [],
      "source": [
        "# your codes here (if needed)"
      ]
    }
  ],
  "metadata": {
    "kernelspec": {
      "display_name": "Python 3",
      "language": "python",
      "name": "python3"
    },
    "language_info": {
      "codemirror_mode": {
        "name": "ipython",
        "version": 3
      },
      "file_extension": ".py",
      "mimetype": "text/x-python",
      "name": "python",
      "nbconvert_exporter": "python",
      "pygments_lexer": "ipython3",
      "version": "3.8.5"
    },
    "colab": {
      "name": "python-lists-strings-dicts-sets-combined-template.ipynb",
      "provenance": [],
      "toc_visible": true,
      "include_colab_link": true
    }
  },
  "nbformat": 4,
  "nbformat_minor": 0
}