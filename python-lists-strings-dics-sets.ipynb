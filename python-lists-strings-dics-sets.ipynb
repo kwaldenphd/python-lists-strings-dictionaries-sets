{
 "cells": [
  {
   "cell_type": "markdown",
   "metadata": {},
   "source": [
    "# Combined lists and strings, dictionaries and sets Python lab\n",
    "\n",
    "# Lists and Strings in Python\n",
    "\n",
    "<a href=\"http://creativecommons.org/licenses/by-nc/4.0/\" rel=\"license\"><img style=\"border-width: 0;\" src=\"https://i.creativecommons.org/l/by-nc/4.0/88x31.png\" alt=\"Creative Commons License\" /></a>\n",
    "This tutorial is licensed under a <a href=\"http://creativecommons.org/licenses/by-nc/4.0/\" rel=\"license\">Creative Commons Attribution-NonCommercial 4.0 International License</a>.\n",
    "\n",
    "## Lab Objectives\n",
    "- Practice utilizing lists and strings in the Python programming language\n",
    "  * For strings, this includes creation, length and access, basic list operations, and basic method arguments\n",
    "  * For lists, this includes creation, access, iteration, nesting, searching, concatenating, growing, deleting, sorting, and reversing\n",
    "- Understand and articulate the differences between lists and strings\n",
    "- Use Python methods and functions to work with strings and numbers\n",
    "- - Define dictionaries in the Python programming language\n",
    "- Practice utilizing dictionaries and sets in the Python programming language\n",
    "  * For dictionaries, this includes basic syntax, ordering, adding key-value pairs, updating, lists, and iteration\n",
    "  * For sets, this includes basic syntax, adding and removing, and testing for membership\n",
    "- Use Python methods and functions to work with dictionaries and sets\n",
    "\n",
    "## Acknowledgements\n",
    "\n",
    "Elements of this lab procedure were adapted from materials developed by [Dr. Peter Bui](http://www3.nd.edu/~pbui/) for the [CSE 10101 \"Elements of Computing I\" course](https://www3.nd.edu/~pbui/teaching/cdt.30010.fa16/).\n",
    "- [Reading 05: Lists, Strings](https://www3.nd.edu/~pbui/teaching/cdt.30010.fa16/reading05.html)\n",
    "- [Notebook 05: Lists, Strings](https://www3.nd.edu/~pbui/teaching/cdt.30010.fa16/notebook05.html)\n",
    "- [Reading 06: Dictionaries, Sets](https://www3.nd.edu/~pbui/teaching/cdt.30010.fa16/reading06.html)\n",
    "\n",
    "Elements of this lab procedure were adapted from materials developed by [Dr. Janet Davis](https://cs.whitman.edu/~davisj/) for the the [CSC 105 \"The Digital Age\" course](https://www.cs.grinnell.edu/~davisjan/csc/105/2012S/). \n",
    "- [Laboratory: Programming in Python](http://www.cs.grinnell.edu/~davisjan/csc/105/labs/python1.html)\n",
    "\n",
    "Elements of this lab procedure were adapted from materials developed by [Dr. Corey Pennycuff](https://www3.nd.edu/~cpennycu/) for the [CSE 10101 Elements of Computing (Fall 2019)](https://www3.nd.edu/~cpennycu/2019/fa-CSE10101-CDT30010.html).\n",
    "\n",
    "Elements of this lab procedure were adapted from materials developed by [Lindsay K. Mattock](http://lindsaymattock.net/) for the the [SLIS 5020 Computing Foundations course](http://lindsaymattock.net/computingfoundations.html). \n",
    "\n",
    "# Table of Contents\n",
    "- [Python Syntax: Methods and Functions](#python-syntax-methods-and-functions)\n",
    "- [Variables](#variables)\n",
    "- [Strings](#strings)\n",
    "  * [Title Methods](#title-methods)\n",
    "  * [Concatenation](#concatenation)\n",
    "  * [Combining Variable Types](#combining-variable-types)\n",
    "  * [String Length and Access](#string-length-and-access)\n",
    "  * [Other String Operations](#other-string-operations)\n",
    "    * [Length](#length)\n",
    "    * [Properties](#properties)\n",
    "    * [Sort](#sort)\n",
    "    * [Max and Min](#max-and-min)\n",
    "    * [`in` operator](#in-operator)\n",
    "    * [Search](#search)\n",
    "- [Lists](#lists)\n",
    "  * [Lists With Numbers](#lists-with-numbers)\n",
    "    * [List Length and Access](#list-length-and-access)\n",
    "    * [Modifying Lists](#modifying-lists)\n",
    "      * [Growing Lists](#growing-lists)\n",
    "      * [A Quick Detour Into `range()`](#a-quick-detour-into-range)\n",
    "      * [Deleting Items From Lists](#deleting-items-from-lists)\n",
    "    * [Empty Lists](#empty-lists)\n",
    "    * [Nesting and Sub-Lists](#nesting-and-sublists)\n",
    "    * [Other List Operations](#other-list-operations)\n",
    "      * [Lists and the `in` Operator](#lists-and-the-in-operator)\n",
    "      * [List Concatenation](#list-concatenation)\n",
    "      * [Copying](#copying)\n",
    "      * [Sorting](#sorting)\n",
    "        * [Reverse](#reverse)\n",
    "      * [Utility Functions](#utility-functions)\n",
    "    * [Looking Ahead](#looking-ahead)\n",
    "    * [Lab Notebook Questions on Lists With Numbers](#lab-notebook-questions-on-lists-with-numbers)\n",
    "  * [Lists With Strings](#lists-with-strings)\n",
    "    * [List Functions and String Elements](#list-functions-and-string-elements)\n",
    "      * [`Len`](#len)\n",
    "      * [`Sort`](#sort)\n",
    "      * [`Reverse`](#reverse)\n",
    "    * [Lab Notebook Questions on Lists With Strings](#lab-notebook-questions-on-lists-with-strings)\n",
    "- [Dictionaries](#dictionaries)\n",
    "  * [Creating a Dictionary](#creating-a-dictionary)\n",
    "  * [Interacting With a Dictionary](#interacting-with-a-dictionary)\n",
    "  * [Iteration and Dictionaries](#iteration-and-dictionaries)\n",
    "  * [Dictionary Lab Notebook Question](#dictionary-lab-notebook-question)\n",
    "- [Sets](#sets)\n",
    "  * [Creating Sets](#creating-sets)\n",
    "  * [Testing For Membership](#testing-for-membership)\n",
    "  * [Adding and Removing Items](#adding-and-removing-items)\n",
    "  * [Set Lab Notebook Question](#set-lab-notebook-question)\n",
    "- [Additional Lab Notebook Questions](#additional-lab-notebook-questions)\n",
    "- [How to submit this lab (and show your work)](#how-to-submit-this-lab-and-show-your-work)\n",
    "- [Lab Notebook Questions](#lab-notebook-questions)\n",
    "  \n",
    "  \n",
    "# Python Syntax: Methods and Functions\n",
    "\n",
    "1. Python has some specific terminology used to describe elements of code.\n",
    "\n",
    "2. Syntax: Programming languages have their own syntax, which are a set of rules that determine how programs (commands, lines of code) are written and interpreted. The language syntax includes both elements of the code visible to human readers as well as elements of the code executed by the machine.\n",
    "\n",
    "3. Function: We have a whole lab coming up on functions. For now, we can think of functions as a group of statements that perform a specific task. Python includes built-in functions like `print()`, `dict()`, `input()`, `int()`, and `len()`, but also allows you to create your own functions. Data, parameters, or arguments can be passed into a function, and a function can also return data.\n",
    "\n",
    "4. Parameters and arguments can be used interchangeably in Python.\n",
    "\n",
    "5. Method: In Python, a method is something that is applied to an object. That object could be a variable, string, number, or other type of data. A method is a function that is available for objects based on their type. For example `append()`, `extend()`, `sort()`, and `reverse()` are all methods that can be used with `list` object types. `capitalize()`, `upper()`, `lower()`, and `title()` are all methods that can be used with `string` object types.\n",
    "\n",
    "6. Function vs. Method: Functions are generic, while a method is called on an object. A method is associated with an object (and can access/interact with the data or information that is part of that object). Functions do not alter the state of an object, while a method can alter an object state.\n",
    "\n",
    "# Variables\n",
    "\n",
    "7. We worked with variables in our first Python lab. A variable is a placeholder for a piece of information. You can think of it as a basket or container. \n",
    "\n",
    "8. Python has a few rules for variables:\n",
    "- Variable names can only include letter, numbers, or underscores, but cannot start with a number.\n",
    "- Spaces are not permitted.\n",
    "- The names of Python methods and functions are reserved, meaning that they cannot be used as variable names. So, `print` cannot be used as a variable name.\n",
    "- As a rule, variable names should be short and descriptive."
   ]
  },
  {
   "cell_type": "markdown",
   "metadata": {},
   "source": [
    "<blockquote>Q1: In your own words, explain the difference between <code>print(hello)</code> and <code>print(“hello”)</code>.</blockquote>"
   ]
  },
  {
   "cell_type": "markdown",
   "metadata": {},
   "source": [
    "# Strings\n",
    "\n",
    "9. What are strings? \n",
    "\n",
    "10. A string is a sequence of characters. \n",
    "\n",
    "11. Although we can have list of characters, often times we want to access and manipulate the sequence as an aggregate set of text rather than individual letters. \n",
    "\n",
    "12. Strings are identified by the <code>“ ”</code> or alternatively by <code>‘ ’</code>."
   ]
  },
  {
   "cell_type": "code",
   "execution_count": null,
   "metadata": {},
   "outputs": [],
   "source": [
    "# example that creates a new string variable\n",
    "first_name = 'Katherine'\n",
    "\n",
    "# check variable type\n",
    "type(first_name)\n",
    "\n",
    "# view value of first_name variable\n",
    "first_name"
   ]
  },
  {
   "cell_type": "code",
   "execution_count": null,
   "metadata": {},
   "outputs": [],
   "source": [
    "# example that converts integer to string\n",
    "str(10)\n",
    "\n",
    "# example that converts float to string\n",
    "str(15.0)\n",
    "\n",
    "# example that converts boolean to string\n",
    "str(True)"
   ]
  },
  {
   "cell_type": "markdown",
   "metadata": {},
   "source": [
    "13. Because certain operations on strings are so common, Python includes a variety of built-in methods that you can apply to a string object:\n",
    "\n",
    "## Title Methods\n",
    "\n",
    "14. Let's look at an example that uses different title methods."
   ]
  },
  {
   "cell_type": "code",
   "execution_count": null,
   "metadata": {},
   "outputs": [],
   "source": [
    "# example using my name\n",
    "name = \"katherine walden\""
   ]
  },
  {
   "cell_type": "markdown",
   "metadata": {},
   "source": [
    "15. Next, we’ll use the `print` function with the method `title`. Python functions and methods always end with a `()`. Methods define an additional action that can be applied to the data."
   ]
  },
  {
   "cell_type": "code",
   "execution_count": null,
   "metadata": {},
   "outputs": [],
   "source": [
    "# example using my name, printed in title case\n",
    "name = \"katherine walden\"\n",
    "print(name.title())"
   ]
  },
  {
   "cell_type": "markdown",
   "metadata": {},
   "source": [
    "\n",
    "16. Your program should output your data with a leading capital letter.\n",
    "\n",
    "17. We can also change the case using the `upper()` method and `lower()` method: `print(name.upper())` outputs your string with all capital letters, while `print(name.lower())` outputs your string in all lower case.\n",
    "\n",
    "- `Katherine Walden`\n",
    "- `KATHERINE WALDEN`\n",
    "- `katherine walden`\n",
    "\n",
    "18. Try adding two additional `print()` functions calling the `name` variable with each of these methods.  "
   ]
  },
  {
   "cell_type": "markdown",
   "metadata": {},
   "source": [
    "<blockquote>Q2: Describe the syntax of the three print statements generated in steps 14-18 in your own words. What is this code doing? Define the function and method for each example.</blockquote>"
   ]
  },
  {
   "cell_type": "markdown",
   "metadata": {},
   "source": [
    "## Concatenation\n",
    "\n",
    "19. Let’s modify our code a bit and create two new variables `first_name` for your first name and `last_name` for your last name. We can then combine these two string variables (called concatenation) in a third variable called `full_name`.\n",
    "\n",
    "20. If we want our first and last name to be separated by a space, we need to tell Python to add one in by including the `“ “`, otherwise, each string will be printed back-to-back."
   ]
  },
  {
   "cell_type": "code",
   "execution_count": null,
   "metadata": {},
   "outputs": [],
   "source": [
    "first_name = \"katherine\"\n",
    "last_name = \"walden\"\n",
    "full_name = first_name + \" \" + last name\n",
    "\n",
    "print(full_name)"
   ]
  },
  {
   "cell_type": "markdown",
   "metadata": {},
   "source": [
    "21. We can then use the `print()` function as we did before to output `full_name` in title case."
   ]
  },
  {
   "cell_type": "code",
   "execution_count": null,
   "metadata": {},
   "outputs": [],
   "source": [
    "first_name = \"katherine\"\n",
    "last_name = \"walden\"\n",
    "full_name = first_name + \" \" + last name\n",
    "\n",
    "print(\"Hello, \" + full_name.title() + \"!\")"
   ]
  },
  {
   "cell_type": "markdown",
   "metadata": {},
   "source": [
    "22. We could combine strings and variables in the same `print()` function to output a full sentence to the screen.\n",
    "\n",
    "23. We could also assign this whole sentence to a variable and return the same output."
   ]
  },
  {
   "cell_type": "code",
   "execution_count": null,
   "metadata": {},
   "outputs": [],
   "source": [
    "first_name = \"katherine\"\n",
    "last_name = \"walden\"\n",
    "full_name = first_name + \" \" + last name\n",
    "\n",
    "sentence=\"Hello, \" + full_name.title() + \"!\"\n",
    "\n",
    "print(sentence)"
   ]
  },
  {
   "cell_type": "markdown",
   "metadata": {},
   "source": [
    "<blockquote>Q3: Explain how each of these two programs (steps 20-23) work in your own words.</blockquote>"
   ]
  },
  {
   "cell_type": "markdown",
   "metadata": {},
   "source": [
    "### Combining Variable Types\n",
    "\n",
    "24. Python works with integers (whole numbers) and floats (any number with a decimal point). Python uses the basic mathematic symbols to perform functions: `+` (add), `-` (subtract), `*` (multiply), `/` (divide). \n",
    "\n",
    "25. Try this program:"
   ]
  },
  {
   "cell_type": "code",
   "execution_count": null,
   "metadata": {},
   "outputs": [],
   "source": [
    "print(2+3)\n",
    "print(2-3)\n",
    "print(2*3)\n",
    "print(2/3)"
   ]
  },
  {
   "cell_type": "markdown",
   "metadata": {},
   "source": [
    "<blockquote>Q4: Why does <code>print(2//3)</code> return 0? How would you modify your code to return the decimal number? Why?</blockquote>"
   ]
  },
  {
   "cell_type": "markdown",
   "metadata": {},
   "source": [
    "\n",
    "26. Hint: Try `print(2.0//3.0)` using the floating point integers (numbers with decimal points).\n",
    "\n",
    "27. Let’s write a new program with an integer variable and a string variable. Feel free to modify course number and department if taking this as something other than CSE 10101."
   ]
  },
  {
   "cell_type": "code",
   "execution_count": null,
   "metadata": {},
   "outputs": [],
   "source": [
    "course_name=\"Elements of Computing I\"\n",
    "course_number = 10101\n",
    "\n",
    "print(\"Welcome to \" + course_name.title() + \" CSE:\" + course_number)"
   ]
  },
  {
   "cell_type": "markdown",
   "metadata": {},
   "source": [
    "28. When you run the program, you will receive an error.\n",
    "\n",
    "<p align=\"center\"><a href=\"https://github.com/kwaldenphd/Python/blob/master/images/Image_8.png?raw=true\"><img class=\"aligncenter\" src=\"https://github.com/kwaldenphd/Python/blob/master/images/Image_8.png?raw=true\" /></a></p>\n",
    "\n",
    "29. The `type` error is telling us that we cannot use these two different variable types in the same function. \n",
    "\n",
    "30. When we want numbers to be read as characters rather than numeric digits, we have to use the string method `str()` to convert the integer into a string of characters."
   ]
  },
  {
   "cell_type": "code",
   "execution_count": null,
   "metadata": {},
   "outputs": [],
   "source": [
    "print(\"Welcome to \" + course_name.title() + \" CSE:\" + str(course_number))"
   ]
  },
  {
   "cell_type": "markdown",
   "metadata": {},
   "source": [
    "<blockquote>Q5: Explain concatenation in your own words. Why must we convert numbers to strings in the program above? Refer to this example and the previous example.</blockquote>\n",
    "\n",
    "<blockquote>Q6: Write a program that converts integer, float, or boolean values to a string, using the <code>str</code> function.</code></blockquote>"
   ]
  },
  {
   "cell_type": "markdown",
   "metadata": {},
   "source": [
    "## String Length and Access\n",
    "\n",
    "31. We can get the length or size of a string by using the `len` function."
   ]
  },
  {
   "cell_type": "code",
   "execution_count": null,
   "metadata": {},
   "outputs": [],
   "source": [
    "len(first_name)"
   ]
  },
  {
   "cell_type": "markdown",
   "metadata": {},
   "source": [
    "32. We can also extract (or modify) individual characters within a string. To do so, we need a way to specify which character we mean. \n",
    "\n",
    "33. This is done by giving each position in the string an `index number` or `index operator`, which is determined by simply counting off (starting at 0) from left to right. \n",
    "\n",
    "34. We then use the index number as a subscript into the string. "
   ]
  },
  {
   "cell_type": "code",
   "execution_count": null,
   "metadata": {},
   "outputs": [],
   "source": [
    "# access first character in string\n",
    "first_name[0]\n",
    "\n",
    "# access last character in string\n",
    "first_name[-1]"
   ]
  },
  {
   "cell_type": "markdown",
   "metadata": {},
   "source": [
    "35. In Python there is no notion of a character type as there is in languages such as Java or C. So when we check the type for a character in a string, we get back another string."
   ]
  },
  {
   "cell_type": "code",
   "execution_count": null,
   "metadata": {},
   "outputs": [],
   "source": [
    "type(first_name[0])"
   ]
  },
  {
   "cell_type": "markdown",
   "metadata": {},
   "source": [
    "36. Another example: let's say we have a variable `color` that includes the string `\"turquoise\"`.\n",
    "\n",
    "37. Then...\n",
    "- `color[0]` holds the letter `t`\n",
    "- `color[1]` holds the letter `u`\n",
    "- `color[2]` holds the letter `r`\n",
    "- etc"
   ]
  },
  {
   "cell_type": "markdown",
   "metadata": {},
   "source": [
    "<blockquote>Q7: Write a program that prompts the user to enter a 6-letter word, and then prints the first, third, and fifth letters of that word.</blockquote>"
   ]
  },
  {
   "cell_type": "markdown",
   "metadata": {},
   "source": [
    "38. A sample output for your program might look like this:\n",
    "```\n",
    "Please enter a 6-letter word: joyful\n",
    "The first, third, and fifth letters are: j y u\n",
    "```\n",
    "\n",
    "39. NOTE: Strings in Python are immutable, which means that you cannot change the elements of a string once it is set.\n",
    "\n",
    "40. The following program will result in a `TypeError`."
   ]
  },
  {
   "cell_type": "code",
   "execution_count": null,
   "metadata": {},
   "outputs": [],
   "source": [
    "first_name[0] = 'k'"
   ]
  },
  {
   "cell_type": "markdown",
   "metadata": {},
   "source": [
    "41. So what do you do when you want to update a string? You simply construct a new one!"
   ]
  },
  {
   "cell_type": "code",
   "execution_count": null,
   "metadata": {},
   "outputs": [],
   "source": [
    "first_name = 'k' + first_name[1:]\n",
    "first_name"
   ]
  },
  {
   "cell_type": "markdown",
   "metadata": {},
   "source": [
    "## Other String Operations\n",
    "\n",
    "42. Since a string is a sequence of characters, there are a few other operations that work on strings.\n",
    "\n",
    "### Length\n",
    "\n",
    "43. We've already seen the `len` function in action, but to refresh:"
   ]
  },
  {
   "cell_type": "code",
   "execution_count": null,
   "metadata": {},
   "outputs": [],
   "source": [
    "len(first_name)"
   ]
  },
  {
   "cell_type": "markdown",
   "metadata": {},
   "source": [
    "\n",
    "### Properties\n",
    "\n",
    "44. We can check the properties of characters in a string.\n",
    "- `.isalpha()` checks if all string values are letters\n",
    "- `.isalnum()` checks if string includes only letters and numbers\n",
    "- `.isdigit()` checks if all string values are numbers\n",
    "- `.islower()` checks if all string includes any lower-case characters\n",
    "- `.isspace()` checks if the string includes any whitespace characters\n",
    "- `.istitle()` checks if the string includes any title-case characters\n",
    "- `.isupper()` checks if the string includes any upper-case characters\n",
    "\n",
    "45. To see these string property methods in action in Python syntax:"
   ]
  },
  {
   "cell_type": "code",
   "execution_count": null,
   "metadata": {},
   "outputs": [],
   "source": [
    "# checks if all string values are letters\n",
    "'abc123'.isalpha()\n",
    "\n",
    "# checks if string values are letters and numbers\n",
    "'abc123'.isalnum()\n",
    "\n",
    "# checks if all string values are numbers\n",
    "'abc123'.isdigit()\n",
    "\n",
    "# checks if string includes any lower-case characters\n",
    "'abc123'.islower()\n",
    "\n",
    "# checks if string includes any whitespace characters\n",
    "'abc123'.isspace()\n",
    "\n",
    "# checks if string includes any title-case characters\n",
    "'abc123'.istitle()\n",
    "\n",
    "# checks if string includes any upper-case characters\n",
    "'abc123'.isupper()"
   ]
  },
  {
   "cell_type": "markdown",
   "metadata": {},
   "source": [
    "46. These commands return Boolean `True` or `False` values.\n",
    "\n",
    "### Sort\n",
    "\n",
    "47. We can sort characters in a string alphabetically or reverse alphabetically."
   ]
  },
  {
   "cell_type": "code",
   "execution_count": null,
   "metadata": {},
   "outputs": [],
   "source": [
    "# sort alphabetically\n",
    "sorted(first_name)\n",
    "\n",
    "# reverse sort\n",
    "reversed(first_name)"
   ]
  },
  {
   "cell_type": "markdown",
   "metadata": {},
   "source": [
    "48. These commands output the characters in the string in alphabetical or reverse alphabetical order.\n",
    "\n",
    "### Max and Min\n",
    "\n",
    "49. We can also get the maximum or minimum value in the string. \n",
    "\n",
    "50. For strings that are sequences of characters, the minimum value is the character that appears first in the English-language alphabet, and the maximum is the character that appears last in the English-language alphabet."
   ]
  },
  {
   "cell_type": "code",
   "execution_count": null,
   "metadata": {},
   "outputs": [],
   "source": [
    "# get max string letter\n",
    "max(first_name)\n",
    "\n",
    "# get min string letter\n",
    "min(first_name)"
   ]
  },
  {
   "cell_type": "markdown",
   "metadata": {},
   "source": [
    "### `in` Operator\n",
    "\n",
    "51. We can also use the `in` operator to check if a character or substring (combination of characters) is present in another string."
   ]
  },
  {
   "cell_type": "code",
   "execution_count": null,
   "metadata": {},
   "outputs": [],
   "source": [
    "# checks is 'a' is in 'abcd' string\n",
    "'a' in 'abcd'\n",
    "\n",
    "# checks if 'e' is in 'abcd' string\n",
    "'e' in 'abcd'\n",
    "\n",
    "# checks if 'bc' is in 'abcd' string\n",
    "'bc' in 'abcd'"
   ]
  },
  {
   "cell_type": "markdown",
   "metadata": {},
   "source": [
    "52. Each of these `in` operator examples returns a Boolean value, `True` or `False`.\n",
    "\n",
    "### Search\n",
    "\n",
    "53. We can also instruct the computer to search for a given character within a string.\n",
    "\n",
    "54. There are a few different search methods we can use with strings:\n",
    " - `.startswith()` checks if the string starts with a character or substring\n",
    " - `.endswith()` checks if the string ends with a character or substring\n",
    " - `.find()` locates the index position for a specific character or substring\n",
    " - `.index()` also locates the index position for a specific character or substring\n",
    " \n",
    "55. NOTE: The `.find()` method returns `-1` if the character or substring is not found. The `.index()` method will throw an error if the character or substring is not found.\n",
    " \n",
    "56. To see these methods in action using Python syntax:"
   ]
  },
  {
   "cell_type": "code",
   "execution_count": null,
   "metadata": {},
   "outputs": [],
   "source": [
    "# checks if string starts with 'the' substring\n",
    "'the boy who blocked his own shot'.startswith('the')\n",
    "\n",
    "# checks if string ends with 'shot' substring\n",
    "the boy who blocked his own shot'.endswith('shot')\n",
    "\n",
    "# locates index position for 'who' substring\n",
    "# note .find() outputs the index position for the first character in the substring\n",
    "'the boy who blocked his own shot'.find('who') \n",
    "\n",
    "# checks if 'who' substring is located at index position 10\n",
    "# note -1 return means the substring was not located at that position\n",
    "'the boy who blocked his own shot'.find('who', 10)\n",
    "\n",
    "# locates index position for 'who' substring\n",
    "'the boy who blocked his own shot'.index('who') \n",
    "\n",
    "# checks if 'who' substring is located at index position 10\n",
    "# unlike .find(), .index() will return a ValueError if the substring is located at that position\n",
    "'the boy who blocked his own shot'.index('who', 10)"
   ]
  },
  {
   "cell_type": "markdown",
   "metadata": {},
   "source": [
    "57. Let's look at another example.\n",
    "\n",
    "58. Say we have a variable `color` holds the string `\"turquoise\"`. \n",
    "\n",
    "59. We can retrieve the index of the letter `q` (which is 3) as follows:"
   ]
  },
  {
   "cell_type": "code",
   "execution_count": null,
   "metadata": {},
   "outputs": [],
   "source": [
    "color = \"turquoise\"\n",
    "index_number = color.index(\"q\")\n",
    "print (\"The index number for the letter u within the word \" + color + \" is\", index_number)"
   ]
  },
  {
   "cell_type": "markdown",
   "metadata": {},
   "source": [
    "<blockquote>Q8: Modify the program to have it search for other characters in the string. Does it always return the index number you expect? What index is returned if you ask for the index of the letter u (i.e., what happens when the desired character appears more than once in the string)?</blockquote>"
   ]
  },
  {
   "cell_type": "markdown",
   "metadata": {},
   "source": [
    "# Lists\n",
    "\n",
    "60. Python allows us to store information in a few different ways. \n",
    "\n",
    "61. In this lab, we're focusing on lists, which are an ordered collection of items.\n",
    "\n",
    "62. The individual values in a list are called elements or items. \n",
    "\n",
    "63. Lists have a type and are also considered values themselves.\n",
    "\n",
    "## Lists With Numbers"
   ]
  },
  {
   "cell_type": "code",
   "execution_count": null,
   "metadata": {},
   "outputs": [],
   "source": [
    "# create a list containing 4 numbers\n",
    "[0, 1, 2, 3]\n",
    "\n",
    "# assign that list to a variable\n",
    "numbers = [0, 1, 2, 3]\n",
    "\n",
    "# check types of numbers variable\n",
    "type(numbers)"
   ]
  },
  {
   "cell_type": "markdown",
   "metadata": {},
   "source": [
    "64. Although this is rare, list elements do not need to be the same type.\n",
    "\n",
    "`[0, 1.0, 'a']`\n",
    "\n",
    "### List Length and Access\n",
    "\n",
    "65. We can use the `len` function to get the length of a list."
   ]
  },
  {
   "cell_type": "code",
   "execution_count": null,
   "metadata": {},
   "outputs": [],
   "source": [
    "len(numbers)"
   ]
  },
  {
   "cell_type": "markdown",
   "metadata": {},
   "source": [
    "66. We can also use the index operator and index position to access and manipulate elements in a list.\n"
   ]
  },
  {
   "cell_type": "code",
   "execution_count": null,
   "metadata": {},
   "outputs": [],
   "source": [
    "# access first item in a list\n",
    "numbers[0]\n",
    "\n",
    "# access last item in a list\n",
    "numbers[-1]\n",
    "```\n",
    "\n",
    "```Python\n",
    "# modify first item in a list\n",
    "numbers[0] = 'zero'\n",
    "numbers"
   ]
  },
  {
   "cell_type": "markdown",
   "metadata": {},
   "source": [
    "67. A few other notes on index operators:\n",
    "\n",
    "68. Indeces can be any integer expression.\n",
    "\n",
    "69. A few examples:"
   ]
  },
  {
   "cell_type": "code",
   "execution_count": null,
   "metadata": {},
   "outputs": [],
   "source": [
    "# `numbers[0+1]` is the same as `numbers[1]`\n",
    "numbers[0+1]\n",
    "numbers[1]\n",
    "\n",
    "# index position stored as a variable\n",
    "index = 1\n",
    "numbers[index]\n",
    "numbers[1]\n",
    "\n",
    "# index position as a multiplication product\n",
    "numbers[index * 2]\n",
    "numbers[2]"
   ]
  },
  {
   "cell_type": "markdown",
   "metadata": {},
   "source": [
    "70. An invalid index will yield an IndexError."
   ]
  },
  {
   "cell_type": "code",
   "execution_count": null,
   "metadata": {},
   "outputs": [],
   "source": [
    "numbers[1000]"
   ]
  },
  {
   "cell_type": "markdown",
   "metadata": {},
   "source": [
    "71. And as covered with strings, a negative index will start at the end of the list and count right to left."
   ]
  },
  {
   "cell_type": "code",
   "execution_count": null,
   "metadata": {},
   "outputs": [],
   "source": [
    "# access last item in list\n",
    "numbers[-1]\n",
    "\n",
    "# access next to last item in list\n",
    "numbers[-2]"
   ]
  },
  {
   "cell_type": "markdown",
   "metadata": {},
   "source": [
    "### Modifying Lists\n",
    "\n",
    "72. While strings are immutable, items in a list can be modified.\n",
    "\n",
    "73. An example we've seen before that modifies a single list item."
   ]
  },
  {
   "cell_type": "code",
   "execution_count": null,
   "metadata": {},
   "outputs": [],
   "source": [
    "# modify first item in a list\n",
    "numbers[0] = 'zero'\n",
    "numbers"
   ]
  },
  {
   "cell_type": "markdown",
   "metadata": {},
   "source": [
    "#### Growing Lists\n",
    "\n",
    "74. We can also grow an existing list using the `.append()` or `.extend()` methods."
   ]
  },
  {
   "cell_type": "code",
   "execution_count": null,
   "metadata": {},
   "outputs": [],
   "source": [
    "# add integer 4 to end of numbers list\n",
    "numbers.append(4)\n",
    "numbers\n",
    "\n",
    "# add [5,6,7] to end of numbers list\n",
    "numbers.extend(range(5, 8))\n",
    "numbers"
   ]
  },
  {
   "cell_type": "markdown",
   "metadata": {},
   "source": [
    "75. To unpack what happened in that last bit of code- the `range()` function returns a sequence of numbers.\n",
    "\n",
    "76. The default `range()` function starts at `0`, but in this example we start at `5`. \n",
    "\n",
    "77. The default `range()` function moves by increments of `1` and stops before a specified number. In our example, `range()` stops before 8.\n",
    "\n",
    "#### A Quick Detour Into `range()`\n",
    "\n",
    "77. The core syntax for range: `range(start, stop, step)`\n",
    "\n",
    "78. You may have expected to see the numbers one to ten printed. This is yet another example of the quirks of working with programming languages.\n",
    "\n",
    "79. Python starts with the first number and quits when it reaches the last number of your range. Because it stops at 10, it doesn’t include the 10.\n",
    "\n",
    "80. We can actually create lists using `range()`."
   ]
  },
  {
   "cell_type": "code",
   "execution_count": null,
   "metadata": {},
   "outputs": [],
   "source": [
    "# in this example we'll wrap the list() function around the range() function to create a list of numbers\n",
    "numbers = list(range(1,10))\n",
    "print(numbers)"
   ]
  },
  {
   "cell_type": "markdown",
   "metadata": {},
   "source": [
    "<blockquote>Q9: How would you modify this code to output the full range 1-10?</blockquote>"
   ]
  },
  {
   "cell_type": "markdown",
   "metadata": {},
   "source": [
    "81. What if we just wanted the odd numbers in this range? \n",
    "\n",
    "82. We could add an additional value to the range function to tell the computer to count by two.\n",
    "\n",
    "83. A example that changes the step interval."
   ]
  },
  {
   "cell_type": "code",
   "execution_count": null,
   "metadata": {},
   "outputs": [],
   "source": [
    "numbers = list(range(1,11,2))\n",
    "print(numbers)"
   ]
  },
  {
   "cell_type": "markdown",
   "metadata": {},
   "source": [
    "<blockquote>Q10: How would you rewrite the code to include only the even numbers from 1 to 10?</blockquote>"
   ]
  },
  {
   "cell_type": "markdown",
   "metadata": {},
   "source": [
    "#### Deleting Items from Lists\n",
    "\n",
    "85. We can delete items from a list using the `pop()` method or the `del` statement."
   ]
  },
  {
   "cell_type": "code",
   "execution_count": null,
   "metadata": {},
   "outputs": [],
   "source": [
    "# remove an item at index 0 and return just that item\n",
    "numbers.pop(0)\n",
    "\n",
    "# remove an item at index 0\n",
    "del numbers[0]"
   ]
  },
  {
   "cell_type": "markdown",
   "metadata": {},
   "source": [
    "\n",
    "### Empty Lists\n",
    "\n",
    "86. A list with no items is called an empty list.\n",
    "\n",
    "87. We can also use the `list()` argument to create an empty list.\n",
    "\n",
    "88. Examples in Python syntax:"
   ]
  },
  {
   "cell_type": "code",
   "execution_count": null,
   "metadata": {},
   "outputs": [],
   "source": [
    "# create empty list\n",
    "[]\n",
    "\n",
    "# create empty list using list()\n",
    "list()"
   ]
  },
  {
   "cell_type": "markdown",
   "metadata": {},
   "source": [
    "### Nesting and Sublists\n",
    "\n",
    "89. Lists can also contain other lists- this is referred to as nested lists or sub-lists."
   ]
  },
  {
   "cell_type": "code",
   "execution_count": null,
   "metadata": {},
   "outputs": [],
   "source": [
    "# create list with two sub-lists\n",
    "points = [[0, 1], [2, 3]]\n",
    "points\n",
    "\n",
    "# access first item on list, which is a sublist\n",
    "points[0]\n",
    "\n",
    "# access first item WITHIN second item on list; \n",
    "# core syntax: list_name[list_item_number][sublist_item_number]\n",
    "points[1][0]"
   ]
  },
  {
   "cell_type": "markdown",
   "metadata": {},
   "source": [
    "### Other List Operations\n",
    "\n",
    "#### Lists and the `in` Operator\n",
    "\n",
    "90. Like with strings, we can use the `in` operator to test if a list contains a specific value."
   ]
  },
  {
   "cell_type": "code",
   "execution_count": null,
   "metadata": {},
   "outputs": [],
   "source": [
    "# checks if 0 is i numbers\n",
    "0 in numbers\n",
    "\n",
    "# checks if 5 is in numbers\n",
    "5 in numbers"
   ]
  },
  {
   "cell_type": "markdown",
   "metadata": {},
   "source": [
    "91. Both of these commands return Boolean `True` or `False` statements.\n",
    "\n",
    "#### List Concatenation\n",
    "\n",
    "92. We can concatenate (or join) two lists using the `+` operator."
   ]
  },
  {
   "cell_type": "code",
   "execution_count": null,
   "metadata": {},
   "outputs": [],
   "source": [
    "[0, 1, 2,] + [3, 4, 5]"
   ]
  },
  {
   "cell_type": "markdown",
   "metadata": {},
   "source": [
    "#### Copying\n",
    "\n",
    "93. We can copy a list using the `*` (multiplication) operator."
   ]
  },
  {
   "cell_type": "code",
   "execution_count": null,
   "metadata": {},
   "outputs": [],
   "source": [
    "[0, 1, 2] * 3"
   ]
  },
  {
   "cell_type": "markdown",
   "metadata": {},
   "source": [
    "#### Sorting\n",
    "\n",
    "94. As with strings, we can sort the items in our list.\n",
    "\n",
    "95. We have two options when sorting items in a list.\n",
    "\n",
    "96. Sorting a list **in-place** changes the underlying order of items in the list.\n",
    "\n",
    "97. Generating a sorted version of a list **does not** change the underlying order of items in the list.\n",
    "\n",
    "98. Let's look at a few examples using Python syntax."
   ]
  },
  {
   "cell_type": "code",
   "execution_count": null,
   "metadata": {},
   "outputs": [],
   "source": [
    "# create numbers list\n",
    "numbers = [2, 4, 1, 3]\n",
    "\n",
    "# sort list in place to update list order\n",
    "numbers.sort()\n",
    "\n",
    "# show updated list\n",
    "numbers"
   ]
  },
  {
   "cell_type": "code",
   "execution_count": null,
   "metadata": {},
   "outputs": [],
   "source": [
    "# generate sorted version of list; DOES NOT change underlying order\n",
    "sorted(numbers)\n",
    "\n",
    "# will return original list order\n",
    "numbers\n",
    "\n",
    "# assign results of sorted() to new variable\n",
    "sorted_numbers = sorted(numbers)\n",
    "\n",
    "# show new variable with sorted list\n",
    "sorted_numbers"
   ]
  },
  {
   "cell_type": "markdown",
   "metadata": {},
   "source": [
    "##### Reverse\n",
    "\n",
    "99. We can reverse a list using the `.reverse()` method of the `reversed()` function.\n",
    "\n",
    "100. As with `.sort()` and `sorted()`, we have the option to reverse in-place or generate a reversed version of the original list.\n",
    "\n",
    "101. To demonstrate using Python syntax:\n"
   ]
  },
  {
   "cell_type": "code",
   "execution_count": null,
   "metadata": {},
   "outputs": [],
   "source": [
    "# create list using range()\n",
    "numbers = range(0, 7)\n",
    "\n",
    "# reverse list in-place\n",
    "numbers.reverse()\n",
    "\n",
    "# show reversed list\n",
    "numbers"
   ]
  },
  {
   "cell_type": "code",
   "execution_count": null,
   "metadata": {},
   "outputs": [],
   "source": [
    "# generate reversed version of list\n",
    "reversed(numbers)\n",
    "\n",
    "# show original list\n",
    "numbers\n",
    "\n",
    "# create new variable with reversed list\n",
    "reversed_numbers = reversed(numbers)\n",
    "\n",
    "# show new varaible with reversed list\n",
    "reversed_numbers"
   ]
  },
  {
   "cell_type": "markdown",
   "metadata": {},
   "source": [
    "#### Utility Functions\n",
    "\n",
    "102. A few other functions that come in handy when working with lists that contain numbers.\n",
    "- `sum()` calculates the sum of items in a list\n",
    "- `max()` identifies the highest value in a list\n",
    "- `min()` identifies the lowest value in a list\n",
    "- `random.choice()` selects a list item at random\n",
    "- `random.shuffle()` shuffles items in a list in-place\n",
    "- `random.sample()` samples a select number of items from a list\n",
    "\n",
    "103. Examples for each in Python syntax:"
   ]
  },
  {
   "cell_type": "code",
   "execution_count": null,
   "metadata": {},
   "outputs": [],
   "source": [
    "# compute the sum of a list\n",
    "sum([0, 1, 2, 3])\n",
    "\n",
    "# assign list to variable \n",
    "list = ([0, 1, 2, 3])\n",
    "\n",
    "# compute sum of list using variable name\n",
    "sum(list)"
   ]
  },
  {
   "cell_type": "code",
   "execution_count": null,
   "metadata": {},
   "outputs": [],
   "source": [
    "# find max value of list\n",
    "max([0, 1, 2, 3])\n",
    "\n",
    "# find max value of list using variable name\n",
    "max(list)"
   ]
  },
  {
   "cell_type": "code",
   "execution_count": null,
   "metadata": {},
   "outputs": [],
   "source": [
    "# find min value of list\n",
    "min([0, 1, 2, 3])\n",
    "\n",
    "# find min value using list variable\n",
    "min(list)"
   ]
  },
  {
   "cell_type": "code",
   "execution_count": null,
   "metadata": {},
   "outputs": [],
   "source": [
    "# select element at random\n",
    "random.choice(list)"
   ]
  },
  {
   "cell_type": "code",
   "execution_count": null,
   "metadata": {},
   "outputs": [],
   "source": [
    "# shuffle a list in-place\n",
    "random.shuffle(list)"
   ]
  },
  {
   "cell_type": "code",
   "execution_count": null,
   "metadata": {},
   "outputs": [],
   "source": [
    "# sample 2 elements from a list\n",
    "# core syntax: random.sample(list_name, number_of_elements)\n",
    "random.sample(list, 2)"
   ]
  },
  {
   "cell_type": "markdown",
   "metadata": {},
   "source": [
    "### Looking Ahead\n",
    "\n",
    "104. In the next lab, we'll talk all about conditional statements.\n",
    "\n",
    "105. But for now, let's take a step back and think about how Python interacts with or treats the items in our list.\n",
    "\n",
    "106. For example, when we're using the `in` operator, how does Python test for membership (i.e. see if the value we're looking for is located in the list)?\n",
    "\n",
    "107. Python accomplishes this via **iteration**, which involves iterating over each item in the list. \n",
    "\n",
    "108. So Python starts at the first item in the list (index position `0`), and goes through each item on the list (left to right) until it reaches the end of the list.\n",
    "\n",
    "109. Again, we will have a whole lab on conditional statements, but a few quick examples for now just to illustrate the concept of iteration.\n",
    "\n",
    "110. We can use a **`for` loop** to iterate over the items in a list.\n"
   ]
  },
  {
   "cell_type": "code",
   "execution_count": null,
   "metadata": {},
   "outputs": [],
   "source": [
    "for number in numbers:\n",
    " print(number)"
   ]
  },
  {
   "cell_type": "markdown",
   "metadata": {},
   "source": [
    "\n",
    "111. We can iterate over just the indeces in the list."
   ]
  },
  {
   "cell_type": "code",
   "execution_count": null,
   "metadata": {},
   "outputs": [],
   "source": [
    "for i in range(len(numbers)):\n",
    " print(number[i])"
   ]
  },
  {
   "cell_type": "markdown",
   "metadata": {},
   "source": [
    "112. We can retrieve the item and the index position using the `enumerate()` function."
   ]
  },
  {
   "cell_type": "code",
   "execution_count": null,
   "metadata": {},
   "outputs": [],
   "source": [
    "for i, number in enumerate(numbers):\n",
    " print(i, number)"
   ]
  },
  {
   "cell_type": "markdown",
   "metadata": {},
   "source": [
    "113. Again, more to come on conditional statements and loops.\n",
    "\n",
    "### Lab Notebook Questions on Lists with Numbers\n",
    "\n",
    "Q11: Create the list numbers with the following values: `[[0, 1], [2, 3], [4, 5]]`.\n",
    "- What is the second element?\n",
    "- How would you change 4 to 'four'?\n",
    "- How would you change 1 to 'one'?\n",
    "- How would you print out each sub-list (one sub-list per line)?\n",
    "- How would you print out each number (one number per line)?\n",
    "\n",
    "Q12: Create your own list of numbers. Include your list code as part of this question answer. What is the length of your list? What is the number position for each of the items in your list? How would you return the value of the first item? How would you return the value of the last item?\n",
    "\n",
    "Q13: Using the same list from the previous question, write a program that includes the following steps or components:\n",
    "- Adds a new item to your list\n",
    "- Deletes an item from your list\n",
    "- Sorts your list in-place\n",
    "- Generates a sorted version of your list\n",
    "- Reverse sorts your list in-place\n",
    "- Generates a reverse sorted version of your list\n",
    "- Determiens the `min` and `max` values for your list\n",
    "- Selects a list element at random\n",
    "- Shuffles your list\n",
    "\n",
    "## Lists With Strings\n",
    "\n",
    "114. Now let's put lists and strings together.\n",
    "\n",
    "115. In the previous section of the lab, we focused on lists consisting of numbers.\n",
    "\n",
    "116. Lists can also contain characters, or in this case, strings.\n",
    "\n",
    "117. Write a list of a few of your favorite things."
   ]
  },
  {
   "cell_type": "code",
   "execution_count": null,
   "metadata": {},
   "outputs": [],
   "source": [
    "cookies = ['chocolate chip', 'snickerdoodle', 'peanut butter', 'sugar']"
   ]
  },
  {
   "cell_type": "markdown",
   "metadata": {},
   "source": [
    "118. We can print this list with a print function `print(cookies)`, but Python returns a representation of the list, just as we entered it."
   ]
  },
  {
   "cell_type": "code",
   "execution_count": null,
   "metadata": {},
   "outputs": [],
   "source": [
    "print(cookies)"
   ]
  },
  {
   "cell_type": "markdown",
   "metadata": {},
   "source": [
    "119. This isn’t particularly useful by itself; however, we can use the position of each item (the `index`) to perform different functions.\n",
    "\n",
    "120. Add a `print()` function calling a specific item on your list."
   ]
  },
  {
   "cell_type": "code",
   "execution_count": null,
   "metadata": {},
   "outputs": [],
   "source": [
    "print(cookies[0].title())"
   ]
  },
  {
   "cell_type": "markdown",
   "metadata": {},
   "source": [
    "121. This command returns the first item on my list. This is the item in the `0` position on my list.\n",
    "\n",
    "122. Items in a list are indexed with a number, **beginning with 0 NOT 1.**\n",
    "\n",
    "123. A `print` function that outputs the last item on my list of four items would look like this."
   ]
  },
  {
   "cell_type": "code",
   "execution_count": null,
   "metadata": {},
   "outputs": [],
   "source": [
    "cookies = ['chocolate chip', 'snickerdoodle', 'peanut butter', 'sugar']\n",
    "print(cookies[3].title())"
   ]
  },
  {
   "cell_type": "markdown",
   "metadata": {},
   "source": [
    "124. We can also work backwards (left-to-right) on our list using negative numbers. For example, to call the last item on the list we could also use the index position `-1`."
   ]
  },
  {
   "cell_type": "code",
   "execution_count": null,
   "metadata": {},
   "outputs": [],
   "source": [
    "cookies = ['chocolate chip', 'snickerdoodle', 'peanut butter', 'sugar']\n",
    "print(cookies[-1].title())"
   ]
  },
  {
   "cell_type": "markdown",
   "metadata": {},
   "source": [
    "125. To return the second to last item, we could use `-2`. For the third to last `-3`, etc.\n",
    "\n",
    "126. We can concatenate our list items in strings."
   ]
  },
  {
   "cell_type": "code",
   "execution_count": null,
   "metadata": {},
   "outputs": [],
   "source": [
    "cookies = ['chocolate chip', 'snickerdoodle', 'peanut butter', 'sugar']\n",
    "print(\"My favorite cookie to bake is \" + cookies[1].title() + \".\")"
   ]
  },
  {
   "cell_type": "markdown",
   "metadata": {},
   "source": [
    "127. Which outputs `My favorite cookie to bake is snickerdoodle.`\n",
    "\n",
    "128. We can also change the items in a list. \n",
    "\n",
    "129. Maybe I have a friend who is allergic to peanut butter. I can change the `peanut butter` entry."
   ]
  },
  {
   "cell_type": "code",
   "execution_count": null,
   "metadata": {},
   "outputs": [],
   "source": [
    "cookies = ['chocolate chip', 'snickerdoodle', 'peanut butter', 'sugar']\n",
    "cookies[2] = 'oatmeal'\n",
    "print(cookies)"
   ]
  },
  {
   "cell_type": "markdown",
   "metadata": {},
   "source": [
    "130. The `print()` function outputs the modified list.\n",
    "`['chocolate chip', 'snickerdoodle', 'oatmeal', 'sugar']`\n",
    "\n",
    "131. We can also add data to our list using the append function."
   ]
  },
  {
   "cell_type": "code",
   "execution_count": null,
   "metadata": {},
   "outputs": [],
   "source": [
    "cookies = ['chocolate chip', 'snickerdoodle', 'peanut butter', 'sugar']\n",
    "cookies.append('oatmeal')\n",
    "print(cookies)"
   ]
  },
  {
   "cell_type": "markdown",
   "metadata": {},
   "source": [
    "132. The `print()` function now returns a list of five items `[chocolate chip, snickerdoodle, peanut butter, sugar, oatmeal]`\n",
    "\n",
    "133. We can also use `append()` to create new lists."
   ]
  },
  {
   "cell_type": "code",
   "execution_count": null,
   "metadata": {},
   "outputs": [],
   "source": [
    "my_pets = []\n",
    "my_pets.append('Christy Mathewson')\n",
    "my_pets.append('Smoky Jo Wood')\n",
    "my_pets.append('Sandy Koufax')\n",
    "print(my_pets)"
   ]
  },
  {
   "cell_type": "markdown",
   "metadata": {},
   "source": [
    "134. In this block of code, we started with an empty list `[]`. Then the next two lines with `append()` add new items to the list.\n",
    "\n",
    "135. With `append()`, items are added to the end of the list. \n",
    "\n",
    "136. The `insert()` function allows us to add items to any position in the list."
   ]
  },
  {
   "cell_type": "code",
   "execution_count": null,
   "metadata": {},
   "outputs": [],
   "source": [
    "fruit = ['apple', 'pear', 'banana']\n",
    "fruit.insert(1, 'orange')\n",
    "print(fruit)"
   ]
  },
  {
   "cell_type": "markdown",
   "metadata": {},
   "source": [
    "137. This block of code adds orange to the second position on the list (index position 1).\n",
    "\n",
    "138. The output is `['apple', 'orange', 'kiwi', 'banana']`\n",
    "\n",
    "139. Conversely, the `del` statement allows you to delete items from your list using the index number.\n",
    "\n",
    "140. The following code will remove `orange` from the list."
   ]
  },
  {
   "cell_type": "code",
   "execution_count": null,
   "metadata": {},
   "outputs": [],
   "source": [
    "fruit = ['apple', 'orange', 'pear', 'banana']\n",
    "del fruit[1]\n",
    "print(fruit)"
   ]
  },
  {
   "cell_type": "markdown",
   "metadata": {},
   "source": [
    "141. We can also delete items by value (instead of position) using `remove()`."
   ]
  },
  {
   "cell_type": "code",
   "execution_count": null,
   "metadata": {},
   "outputs": [],
   "source": [
    "fruit = ['apple', 'orange', 'pear', 'banana']\n",
    "fruit.remove('orange')\n",
    "print(fruit)"
   ]
  },
  {
   "cell_type": "markdown",
   "metadata": {},
   "source": [
    "<blockquote><code>remove</code> only removes the first instance of the value in the list. So, if in the previous example orange appeared on the list a second time, only the first instance would be removed. To remove all instances, you would need to perform a loop (we’ll talk about loops later in the semester).</blockquote>\n",
    "\n",
    "### List Functions and String Elements\n",
    "\n",
    "142. Many of the list functions covered in the section of the lab focused on lists with numbers can also work on lists that contain strings.\n",
    "\n",
    "#### `Len`\n",
    "\n",
    "143. To find the length of your list, use the `len()` function."
   ]
  },
  {
   "cell_type": "code",
   "execution_count": null,
   "metadata": {},
   "outputs": [],
   "source": [
    "fruit = ['apple', 'orange', 'pear', 'banana']\n",
    "length = len(fruit)\n",
    "print(length)"
   ]
  },
  {
   "cell_type": "markdown",
   "metadata": {},
   "source": [
    "#### `Sort`\n",
    "\n",
    "144. To alphabetize your list, use the `sort()` method."
   ]
  },
  {
   "cell_type": "code",
   "execution_count": null,
   "metadata": {},
   "outputs": [],
   "source": [
    "fruit = ['apple', 'orange', 'pear', 'banana']\n",
    "fruit.sort()\n",
    "print(fruit)"
   ]
  },
  {
   "cell_type": "markdown",
   "metadata": {},
   "source": [
    "#### `Reverse`\n",
    "\n",
    "145. To print in reverse order, use `reverse()`."
   ]
  },
  {
   "cell_type": "code",
   "execution_count": null,
   "metadata": {},
   "outputs": [],
   "source": [
    "fruit = ['apple', 'orange', 'pear', 'banana']\n",
    "fruit.sort()\n",
    "print(fruit)"
   ]
  },
  {
   "cell_type": "markdown",
   "metadata": {},
   "source": [
    "### Lab Notebook Questions on Lists With Strings \n",
    "\n",
    "146. To recap: Lists are an ordered collection of items. Lists can be numbers or strings. They are declared with a variable name, but the information is contained within `[ ]` and the individual items are separated by a comma. \n",
    "\n",
    "Q14: Create your own list of strings. Include your list code as part of this question answer. What is the length of your list? What is the number position for each of the items in your list? How would you return the value of the first item? How would you return the value of the last item?\n",
    "\n",
    "Q15: Using the same list from the previous question, write a program that includes the following steps or components:\n",
    "- Adds a new item to your list\n",
    "- Deletes an item from your list\n",
    "- Sorts your list in-place\n",
    "- Generates a sorted version of your list\n",
    "- Reverse sorts your list in-place\n",
    "- Generates a reverse sorted version of your list\n",
    "- Determiens the `min` and `max` values for your list\n",
    "- Selects a list element at random\n",
    "- Shuffles your list\n",
    "\n",
    "147. A dictionary is a mapping between a set of indices (keys) and a set of values. \n",
    "\n",
    "148. Each key maps to a value. \n",
    "\n",
    "149.  The association of a key and a value is called a key-value pair.\n",
    "\n",
    "## Creating a Dictionary\n",
    "\n",
    "150. We have two options for creating a dictionary.\n",
    "\n",
    "151. We can use the `dict()` function or the `{}` syntax.\n",
    "\n",
    "152. Examples for each:"
   ]
  },
  {
   "cell_type": "code",
   "execution_count": null,
   "metadata": {},
   "outputs": [],
   "source": [
    "# creating empty dictionary using dict()\n",
    "english_to_french = dict()\n",
    "\n",
    "# check variable type\n",
    "type(english_to_french)\n",
    "\n",
    "# create dictionary this time with key-value pairs\n",
    "english_to_french = dict(\n",
    "  'one': 'un',\n",
    "  'two': 'deux',\n",
    "  'three': 'trois',\n",
    "  'four': 'quatre',\n",
    "  'five': 'cinq'\n",
    ")"
   ]
  },
  {
   "cell_type": "code",
   "execution_count": null,
   "metadata": {},
   "outputs": [],
   "source": [
    "# create empty dictionary using curly brackets {}\n",
    "english_to_french = {}\n",
    "\n",
    "# check variable type\n",
    "type(english_to_french)\n",
    "\n",
    "# create dictionary this time with key-value pairs\n",
    "english_to_french = {\n",
    "  'one': 'un',\n",
    "  'two': 'deux',\n",
    "  'three': 'trois',\n",
    "  'four': 'quatre',\n",
    "  'five': 'cinq'\n",
    "}"
   ]
  },
  {
   "cell_type": "markdown",
   "metadata": {},
   "source": [
    "## Interacting With A Dictionary\n",
    "\n",
    "153. Now that we have a dictionary, we can start to bring in some of the syntax covered in previous labs."
   ]
  },
  {
   "cell_type": "code",
   "execution_count": null,
   "metadata": {},
   "outputs": [],
   "source": [
    "print(english_to_french)"
   ]
  },
  {
   "cell_type": "markdown",
   "metadata": {},
   "source": [
    "154. Notice that when we print the dictionary, the key-value pairs are **unsorted** and do not appear in the order in which we added them.\n",
    "\n",
    "155. Due to the nature of the dictionary data structure, we cannot make any assumptions about the order in which items appear in the dictionary.\n",
    "\n",
    "156. We can use the index operator to read the value for a particular key."
   ]
  },
  {
   "cell_type": "code",
   "execution_count": null,
   "metadata": {},
   "outputs": [],
   "source": [
    "# access value for 'one' key\n",
    "english_to_french['one']"
   ]
  },
  {
   "cell_type": "markdown",
   "metadata": {},
   "source": [
    "157. If we try to access the value for a key that does not exist, Python will return a KeyError."
   ]
  },
  {
   "cell_type": "code",
   "execution_count": null,
   "metadata": {},
   "outputs": [],
   "source": [
    "english_to_french['asdf']"
   ]
  },
  {
   "cell_type": "markdown",
   "metadata": {},
   "source": [
    "158. We can test for membership using  the `in` operator."
   ]
  },
  {
   "cell_type": "code",
   "execution_count": null,
   "metadata": {},
   "outputs": [],
   "source": [
    "# check for 'asdf' string\n",
    "'asdf' in english_to_french\n",
    "\n",
    "# check for 'one' string\n",
    "'one' in english_to_french\n",
    "\n",
    "# check for 'un' string\n",
    "'un' in english_to_french"
   ]
  },
  {
   "cell_type": "markdown",
   "metadata": {},
   "source": [
    "159. Each of these commands returns a Boolean `True` or `False` value.\n",
    "\n",
    "160. Notice the last command returned `False` because the `in` operator is looking at keys, not values in the dictionary.\n",
    "\n",
    "161. We can use the `.keys()` method to get a list of all keys in the dictionary."
   ]
  },
  {
   "cell_type": "code",
   "execution_count": null,
   "metadata": {},
   "outputs": [],
   "source": [
    "print(english_to_french.keys())"
   ]
  },
  {
   "cell_type": "markdown",
   "metadata": {},
   "source": [
    "162. We can use the `.values()` method to get a list of all the values in the dictionary."
   ]
  },
  {
   "cell_type": "code",
   "execution_count": null,
   "metadata": {},
   "outputs": [],
   "source": [
    "print(english_to_french.values())"
   ]
  },
  {
   "cell_type": "markdown",
   "metadata": {},
   "source": [
    "163. We can also add key-value pairs to our dictionary using the index operator and an assignment statement.\n",
    "\n",
    "164. To see that in Python syntax:"
   ]
  },
  {
   "cell_type": "code",
   "execution_count": null,
   "metadata": {},
   "outputs": [],
   "source": [
    "english_to_french['six']   = 'six'\n",
    "english_to_french['seven'] = 'sept'\n",
    "english_to_french['eight'] = 'huit'\n",
    "english_to_french['nine']  = 'neuf'\n",
    "english_to_french['ten']   = 'dix'\n",
    "print(english_to_french)"
   ]
  },
  {
   "cell_type": "markdown",
   "metadata": {},
   "source": [
    "165. The first part of each line of code creates a new key and assigns the value (the string to the right of the assignment operator, or equals sign) to that key, giving us a new key-value pair.\n",
    "\n",
    "## Iteration and Dictionaries\n",
    "\n",
    "166. The previous lab talked about the concept of \"iteration,\" and we're going to see it at work here as well.\n",
    "\n",
    "167. Say we wanted to iterate by keys through our dictionary.\n",
    "\n",
    "168. We could use a `for` loop to tell Python \"`FOR` each key-value pair in my dictionary...do this thing!\"\n",
    "\n",
    "169. An example that tells Python to print the key for each key-value pair."
   ]
  },
  {
   "cell_type": "code",
   "execution_count": null,
   "metadata": {},
   "outputs": [],
   "source": [
    "for key in english_to_french.keys():\n",
    "  print(key)"
   ]
  },
  {
   "cell_type": "markdown",
   "metadata": {},
   "source": [
    "170. We could modify the print statement nested in the for loop to output the key and value."
   ]
  },
  {
   "cell_type": "code",
   "execution_count": null,
   "metadata": {},
   "outputs": [],
   "source": [
    "for key in english_to_french.keys():\n",
    "  print(key, english_to_french[key])"
   ]
  },
  {
   "cell_type": "markdown",
   "metadata": {},
   "source": [
    "171. And, we wouldn't actually need to use the `.keys()` method when iterating by keys."
   ]
  },
  {
   "cell_type": "code",
   "execution_count": null,
   "metadata": {},
   "outputs": [],
   "source": [
    "for key in english_to_french:\n",
    "  print(key, english_to_french[key])"
   ]
  },
  {
   "cell_type": "markdown",
   "metadata": {},
   "source": [
    "172. We can also iterate by key-value pairs, using the `.items()` method."
   ]
  },
  {
   "cell_type": "code",
   "execution_count": null,
   "metadata": {},
   "outputs": [],
   "source": [
    "for key, value, in english_to_french.items():\n",
    "  print(key, value)"
   ]
  },
  {
   "cell_type": "markdown",
   "metadata": {},
   "source": [
    "173. In this example, we told Python to look at the key and value in each key-value pair and print the pair.\n",
    "\n",
    "## Dictionary Lab Notebook Question\n",
    "\n",
    "<blockquote>Q16: Create a dictionary on a topic of your choosing. Include at least 7 key-value pairs.\n",
    "<ol type=\"a\">\n",
    " <li>Add new elements to your dictionary.</li>\n",
    " <li>Update an element in your dictionary.</li>\n",
    " <li>Print a list of all the keys in your dictionary.</li>\n",
    " <li>Print a list of all the values in your dictionary.</li>\n",
    " </ol>\n",
    " </blockquote>\n",
    "\n",
    "# Sets\n",
    "\n",
    "174. A set is an unordered collection of unique objects. Sets are primarily used to see if an object or value is in the collection (membership).\n",
    "\n",
    "<p align=\"center\"><a href=\"https://github.com/kwaldenphd/python-dictionaries-sets/blob/master/figures/Sets.png?raw=true\"><img class=\"aligncenter\" src=\"https://github.com/kwaldenphd/python-dictionaries-sets/blob/master/figures/Sets.png?raw=true\" /></a></p>\n",
    "\n",
    "175. There are many different types of set operations, but this lab is just going to focus on testing for membership.\n",
    "\n",
    "176. That is, looking to see if a particular value is `in` a set.\n",
    "\n",
    "177. HINT: We've seen `in` operators before...\n",
    "\n",
    "## Creating Sets \n",
    "\n",
    "178. We can create the set using `set()`"
   ]
  },
  {
   "cell_type": "code",
   "execution_count": null,
   "metadata": {},
   "outputs": [],
   "source": [
    "# create empty set and assign to s variable\n",
    "s = set()\n",
    "\n",
    "# check s variable type\n",
    "type(s)\n",
    "\n",
    "# create set with values\n",
    "s = set([0,1,2])\n",
    "\n",
    "# show set values\n",
    "s"
   ]
  },
  {
   "cell_type": "markdown",
   "metadata": {},
   "source": [
    "## Testing for Membership\n",
    "\n",
    "179. Now that we have a set with values, we can test for membership using the `in` operator."
   ]
  },
  {
   "cell_type": "code",
   "execution_count": null,
   "metadata": {},
   "outputs": [],
   "source": [
    "# create set with values\n",
    "s = set([0, 1, 2])\n",
    "\n",
    "# test if 0 is in s\n",
    "0 in s\n",
    "\n",
    "# test if 7 is in s\n",
    "7 in s"
   ]
  },
  {
   "cell_type": "markdown",
   "metadata": {},
   "source": [
    "180. The last two lines of code return Boolean `True` or `False` statements.\n",
    "\n",
    "## Adding and Removing Items \n",
    "\n",
    "181. We can add items to our set using `.add()`."
   ]
  },
  {
   "cell_type": "code",
   "execution_count": null,
   "metadata": {},
   "outputs": [],
   "source": [
    "# create empty set\n",
    "s = set()\n",
    "\n",
    "# add values to set\n",
    "s.add(0)\n",
    "s.add(1)\n",
    "s.add(2)\n",
    "\n",
    "# show new set with values\n",
    "s"
   ]
  },
  {
   "cell_type": "markdown",
   "metadata": {},
   "source": [
    "182. We can also remove values from our set using `.remove()`."
   ]
  },
  {
   "cell_type": "code",
   "execution_count": null,
   "metadata": {},
   "outputs": [],
   "source": [
    "# create set with values\n",
    "s = set([0, 1, 2])\n",
    "\n",
    "# remove 1 number value from set\n",
    "s.remove(1)\n",
    "\n",
    "# show updated set\n",
    "s"
   ]
  },
  {
   "cell_type": "markdown",
   "metadata": {},
   "source": [
    "## Set Lab Notebook Question\n",
    "\n",
    "<blockquote>Q17: Create the set <code>s</code> with the following values: <code>[1, 3, 5, 7, 9]</code>\n",
    "<ol type=\"a\">\n",
    "  <li>Test to see if the value <code>11</code> is a member of the set.</li>\n",
    "  <li>Test to see if the value <code>7</code> is a member of the set.</li>\n",
    "  <li>Add a value to the set.</li>\n",
    "  <li>Remove a value from the set.</li>\n",
    " </ol>\n",
    " </blockquote>\n",
    "\n",
    "# Additional Lab Notebook Questions\n",
    "\n",
    "<blockquote>Q18: What is the difference between a <code>list</code> and a <code>string</code>? What are some methods you can perform on a <code>list</code> that you can't do with a <code>string</code> (and vice versa)?</blockquote>\n",
    "\n",
    "<blockquote>Q19: What is the difference between a <code>list</code> and a <code>dict</code>? When would we prefer one over the other?</blockquote>"
   ]
  },
  {
   "cell_type": "markdown",
   "metadata": {},
   "source": [
    "# How to submit this lab (and show your work)\n",
    "\n",
    "147. Moving forward, we'll submit lab notebooks as `.py` files. \n",
    "\n",
    "148. One option is to have a `.py` file that you use to run code and test programs while working through the lab. When ready to submit the lab notebook, you add comments and remove extraneous materials.\n",
    "\n",
    "149. Another option is to have an \"official\" `.py` file that you are using as a lab notebook (separate from your working/testing file). Use comments in Python to note when you are starting a new question (as well as answering a question).\n",
    "  * Example: `Lab5_Notebook_Walden.py`\n",
    "\n",
    "150. What gets submitted as the lab notebook is the `Lab5_Notebook_Walden.py` file.\n",
    "- When in doubt, use comments\n",
    "- Be sure you are using comments to note what question you're responding to\n",
    " \n",
    "# Lab Notebook Questions\n",
    "\n",
    "Q1: In your own words, explain the difference between `print(hello)` and `print(“hello”)`.\n",
    "\n",
    "Q2: Describe the syntax of the three commands that we just used (steps 10-14) in your own words. What is this code doing? Define the function and method for each example.\n",
    "\n",
    "Q3: Explain how each of these two programs (steps 15-18) work in your own words.\n",
    "\n",
    "Q4: Why does `print(2/3)` return `0`? How would you modify your code to return the decimal number? Why?\n",
    "\n",
    "Q5: Explain concatenation in your own words. Why must we convert numbers to strings in the program above? Refer to this example and the previous example.\n",
    "\n",
    "Q6: Write a program that converts integer, float, or boolean values to a string, using the `str()` function.\n",
    "\n",
    "Q7: Write a program that prompts the user to enter a 6-letter word, and then prints the first, third, and fifth letters of that word.\n",
    "\n",
    "Q8: Modify the program to have it search for other characters in the string. Does it always return the index number you expect? What index is returned if you ask for the index of the letter u (i.e., what happens when the desired character appears more than once in the string)?\n",
    "\n",
    "Q9: How would you modify this code to output the full range 1-10?\n",
    "\n",
    "Q10: How would you rewrite the code to include only the even numbers from 1 to 10?\n",
    "\n",
    "Q11: Create the list `numbers` with the following values: `[[0, 1], [2, 3], [4, 5]]`\n",
    "<ol type=\"a\">\n",
    "  <li>What is the second element?</li>\n",
    "  <li>How would you change 4 to 'four'?</li>\n",
    "  <li>How would you change 1 to 'one'?</li>\n",
    "  <li>How would you print out each sub-list (one sub-list per line)?</li>\n",
    "  <li>How would you print out each number (one number per line)?</li>\n",
    " </ol>\n",
    "\n",
    "Q12: Create your own list of numbers. Include your list code as part of this question answer. What is the length of your list? What is the number position for each of the items in your list? How would you return the value of the first item? How would you return the value of the last item?\n",
    "\n",
    "Q13: Using the same list from the previous question, write a program that includes the following steps or components:\n",
    "<ol type=\"a\">\n",
    " <li>Adds a new item to your list</li>\n",
    " <li>Deletes an item from your list</li>\n",
    " <li>Sorts your list in-place</li>\n",
    " <li>Generates a sorted version of your list</li>\n",
    " <li>Reverse sorts your list in-place</li>\n",
    " <li>Generates a reverse sorted version of your list</li>\n",
    " <li>Determines the <code>min</code> and <code>max</code> values for your list</li>\n",
    " <li>Selects an list element at random</li>\n",
    " <li>Shuffles your list</li>\n",
    "</ol>\n",
    "\n",
    "Q14: Create your own list of strings. Include your list code as part of this question answer. What is the length of your list? What is the number position for each of the items in your list? How would you return the value of the first item? How would you return the value of the last item?\n",
    "\n",
    "Q15: Using the same list from the previous question, write a program that includes the following steps or components:\n",
    "<ol type=\"a\">\n",
    " <li>Adds a new item to your list</li>\n",
    " <li>Deletes an item from your list</li>\n",
    " <li>Sorts your list in-place</li>\n",
    " <li>Generates a sorted version of your list</li>\n",
    " <li>Reverse sorts your list in-place</li>\n",
    " <li>Generates a reverse sorted version of your list</li>\n",
    " <li>Determines the <code>min</code> and <code>max</code> values for your list</li>\n",
    " <li>Selects an list element at random</li>\n",
    " <li>Shuffles your list</li>\n",
    "</ol>\n",
    "\n",
    "Q16: Create a dictionary on a topic of your choosing. Include at least 7 key-value pairs.\n",
    "<ol type=\"a\">\n",
    " <li>Add new elements to your dictionary.</li>\n",
    " <li>Update an element in your dictionary.</li>\n",
    " <li>Print a list of all the keys in your dictionary.</li>\n",
    " <li>Print a list of all the values in your dictionary.</li>\n",
    " </ol>\n",
    "\n",
    "Q17: Create the set `s` with the following values: `[1, 3, 5, 7, 9]`\n",
    "<ol type=\"a\">\n",
    "  <li>Test to see if the value <code>11</code> is a member of the set.</li>\n",
    "  <li>Test to see if the value <code>7</code> is a member of the set.</li>\n",
    "  <li>Add a value to the set.</li>\n",
    "  <li>Remove a value from the set.</li>\n",
    " </ol>\n",
    "  \n",
    "Q18: What is the difference between a `list` and a `string`? What are some methods you can perform on a `list` that you can't do with a `string` (and vice versa)?\n",
    "\n",
    "Q19: What is the difference between a `list` and a `dict`? When would we prefer one over the other?"
   ]
  }
 ],
 "metadata": {
  "kernelspec": {
   "display_name": "Python 3",
   "language": "python",
   "name": "python3"
  },
  "language_info": {
   "codemirror_mode": {
    "name": "ipython",
    "version": 3
   },
   "file_extension": ".py",
   "mimetype": "text/x-python",
   "name": "python",
   "nbconvert_exporter": "python",
   "pygments_lexer": "ipython3",
   "version": "3.8.5"
  }
 },
 "nbformat": 4,
 "nbformat_minor": 4
}
