{
  "cells": [
    {
      "cell_type": "markdown",
      "metadata": {
        "id": "view-in-github",
        "colab_type": "text"
      },
      "source": [
        "<a href=\"https://colab.research.google.com/github/kwaldenphd/python-lists-strings-dictionaries-sets/blob/main/python_lists_strings_dicts_sets_combined_procedure.ipynb\" target=\"_parent\"><img src=\"https://colab.research.google.com/assets/colab-badge.svg\" alt=\"Open In Colab\"/></a>"
      ]
    },
    {
      "cell_type": "markdown",
      "source": [
        "# Lists and Strings in Python\n",
        "\n",
        "<a href=\"http://creativecommons.org/licenses/by-nc/4.0/\" rel=\"license\"><img style=\"border-width: 0;\" src=\"https://i.creativecommons.org/l/by-nc/4.0/88x31.png\" alt=\"Creative Commons License\" /></a>\n",
        "This tutorial is licensed under a <a href=\"http://creativecommons.org/licenses/by-nc/4.0/\" rel=\"license\">Creative Commons Attribution-NonCommercial 4.0 International License</a>."
      ],
      "metadata": {
        "id": "MhkMziHC2E7b"
      }
    },
    {
      "cell_type": "markdown",
      "source": [
        "## Lab Objectives\n",
        "- Practice utilizing lists and strings in the Python programming language\n",
        "  * For strings, this includes creation, length and access, basic list operations, and basic method arguments\n",
        "  * For lists, this includes creation, access, iteration, nesting, searching, concatenating, growing, deleting, sorting, and reversing\n",
        "- Understand and articulate the differences between lists and strings\n",
        "- Use Python methods and functions to work with strings and numbers\n",
        "\n",
        "<table>\n",
        " <tr><td>\n",
        "<img src=\"https://elearn.southampton.ac.uk/wp-content/blogs.dir/sites/64/2021/04/PanPan.png\" alt=\"Panopto logo\" width=\"50\"/></td>\n",
        "  <td><a href=\"https://notredame.hosted.panopto.com/Panopto/Pages/Viewer.aspx?id=f3205246-fb3f-4fed-8ab8-ad5500fa956e\">Lab overview</a></td>\n",
        "  </tr>\n",
        "  </table>\n",
        "  \n",
        "<table>\n",
        " <tr><td>\n",
        "<img src=\"https://elearn.southampton.ac.uk/wp-content/blogs.dir/sites/64/2021/04/PanPan.png\" alt=\"Panopto logo\" width=\"50\"/></td>\n",
        "<td><a href=\"https://notredame.hosted.panopto.com/Panopto/Pages/Viewer.aspx?pid=119e8ba8-f51c-4e7e-8767-ae58010a6213\">Lecture/live coding playlist</a></td>\n",
        "  </tr>\n",
        "  </table>\n"
      ],
      "metadata": {
        "id": "TB0Bfvcs2F0L"
      }
    },
    {
      "cell_type": "markdown",
      "source": [
        "## Acknowledgements\n",
        "\n",
        "Elements of this lab procedure were adapted from materials developed by [Dr. Peter Bui](http://www3.nd.edu/~pbui/) for the [CSE 10101 \"Elements of Computing I\" course](https://www3.nd.edu/~pbui/teaching/cdt.30010.fa16/).\n",
        "- [Reading 05: Lists, Strings](https://www3.nd.edu/~pbui/teaching/cdt.30010.fa16/reading05.html)\n",
        "- [Notebook 05: Lists, Strings](https://www3.nd.edu/~pbui/teaching/cdt.30010.fa16/notebook05.html)\n",
        "\n",
        "Elements of this lab procedure were adapted from materials developed by [Dr. Janet Davis](https://cs.whitman.edu/~davisj/) for the the [CSC 105 \"The Digital Age\" course](https://www.cs.grinnell.edu/~davisjan/csc/105/2012S/). \n",
        "- [Laboratory: Programming in Python](http://www.cs.grinnell.edu/~davisjan/csc/105/labs/python1.html)\n",
        "\n",
        "Elements of this lab procedure were adapted from materials developed by [Dr. Corey Pennycuff](https://www3.nd.edu/~cpennycu/) for the [CSE 10101 Elements of Computing (Fall 2019)](https://www3.nd.edu/~cpennycu/2019/fa-CSE10101-CDT30010.html).\n",
        "\n",
        "Elements of this lab procedure were adapted from materials developed by [Lindsay K. Mattock](http://lindsaymattock.net/) for the the [SLIS 5020 Computing Foundations course](http://lindsaymattock.net/computingfoundations.html). "
      ],
      "metadata": {
        "id": "SdgEMNEe2HRV"
      }
    },
    {
      "cell_type": "markdown",
      "source": [
        "# Lecture and Live Coding\n",
        "\n",
        "Throughout this lab, you will see a Panopto icon at the start of select sections.\n",
        "\n",
        "This icon indicates there is lecture/live coding asynchronous content that accompanies this section of the lab. \n",
        "\n",
        "You can click the link in the figure caption to access these materials (ND users only).\n",
        "\n",
        "Example:\n",
        "\n",
        "<table>\n",
        " <tr><td>\n",
        "<img src=\"https://elearn.southampton.ac.uk/wp-content/blogs.dir/sites/64/2021/04/PanPan.png\" alt=\"Panopto logo\" width=\"50\"/></td>\n",
        "  <td><a href=\"https://notredame.hosted.panopto.com/Panopto/Pages/Viewer.aspx?id=f3205246-fb3f-4fed-8ab8-ad5500fa956e\">Lab overview</a></td>\n",
        "  </tr>\n",
        "  </table>\n",
        "  \n",
        "<table>\n",
        " <tr><td>\n",
        "<img src=\"https://elearn.southampton.ac.uk/wp-content/blogs.dir/sites/64/2021/04/PanPan.png\" alt=\"Panopto logo\" width=\"50\"/></td>\n",
        "<td><a href=\"https://notredame.hosted.panopto.com/Panopto/Pages/Viewer.aspx?pid=119e8ba8-f51c-4e7e-8767-ae58010a6213\">Lecture/live coding playlist</a></td>\n",
        "  </tr>\n",
        "  </table>\n"
      ],
      "metadata": {
        "id": "Q1xpPLel2I9S"
      }
    },
    {
      "cell_type": "markdown",
      "source": [
        "# Lab Notebook Template\n",
        "\n",
        "Lab notebook template:\n",
        "- [`.py` file](https://drive.google.com/file/d/1GrrOAcDbYlrRbLADh1bb2b3jbZUsnx6o/view?usp=sharing)\n",
        "- [Jupyter Notebook](https://colab.research.google.com/drive/1MMdu-e1YCynl8Xy17jh2NCLIQEOcUlZX?usp=sharing)"
      ],
      "metadata": {
        "id": "Kv4YzLW_2KCF"
      }
    },
    {
      "cell_type": "markdown",
      "source": [
        "# Python Syntax: Methods and Functions\n",
        "\n",
        "<table>\n",
        " <tr><td>\n",
        "<img src=\"https://elearn.southampton.ac.uk/wp-content/blogs.dir/sites/64/2021/04/PanPan.png\" alt=\"Panopto logo\" width=\"50\"/></td>\n",
        "  <td><a href=\"https://notredame.hosted.panopto.com/Panopto/Pages/Viewer.aspx?id=8ccafd04-171b-47c5-9cda-ad8201619bf3\">Lab overview</a></td>\n",
        "  </tr>\n",
        "  </table>\n",
        "\n",
        "1. Python has some specific terminology used to describe elements of code.\n",
        "\n",
        "2. Syntax: Programming languages have their own syntax, which are a set of rules that determine how programs (commands, lines of code) are written and interpreted. The language syntax includes both elements of the code visible to human readers as well as elements of the code executed by the machine.\n",
        "\n",
        "3. Function: We have a whole lab coming up on functions. For now, we can think of functions as a group of statements that perform a specific task. Python includes built-in functions like `print()`, `dict()`, `input()`, `int()`, and `len()`, but also allows you to create your own functions. Data, parameters, or arguments can be passed into a function, and a function can also return data.\n",
        "\n",
        "4. Parameters and arguments can be used interchangeably in Python.\n",
        "\n",
        "5. Method: In Python, a method is something that is applied to an object. That object could be a variable, string, number, or other type of data. A method is a function that is available for objects based on their type. For example `append()`, `extend()`, `sort()`, and `reverse()` are all methods that can be used with `list` object types. `capitalize()`, `upper()`, `lower()`, and `title()` are all methods that can be used with `string` object types.\n",
        "\n",
        "6. Function vs. Method: Functions are generic, while a method is called on an object. A method is associated with an object (and can access/interact with the data or information that is part of that object). Functions do not alter the state of an object, while a method can alter an object state."
      ],
      "metadata": {
        "id": "5y8COcuU2LTD"
      }
    },
    {
      "cell_type": "markdown",
      "source": [
        "# Variables\n",
        "\n",
        "7. We worked with variables in our first Python lab. A variable is a placeholder for a piece of information. You can think of it as a basket or container. \n",
        "\n",
        "8. Python has a few rules for variables:\n",
        "- Variable names can only include letter, numbers, or underscores, but cannot start with a number.\n",
        "- Spaces are not permitted.\n",
        "- The names of Python methods and functions are reserved, meaning that they cannot be used as variable names. So, `print` cannot be used as a variable name.\n",
        "- As a rule, variable names should be short and descriptive.\n",
        "\n",
        "<blockquote>Q1: In your own words, explain the difference between <code>print(hello)</code> and <code>print(“hello”)</code>.</blockquote>\n"
      ],
      "metadata": {
        "id": "Ola3zEHu2Miy"
      }
    },
    {
      "cell_type": "markdown",
      "source": [
        "# Strings\n",
        "\n",
        "<table>\n",
        " <tr><td>\n",
        "<img src=\"https://elearn.southampton.ac.uk/wp-content/blogs.dir/sites/64/2021/04/PanPan.png\" alt=\"Panopto logo\" width=\"50\"/></td>\n",
        "  <td><a href=\"https://notredame.hosted.panopto.com/Panopto/Pages/Viewer.aspx?id=3019ac5c-06ad-4deb-9e49-ad8201622eb6\">Strings</a></td>\n",
        "  </tr>\n",
        "  </table>\n",
        "\n",
        "9. What are strings? \n",
        "\n",
        "10. A string is a sequence of characters. \n",
        "\n",
        "11. Although we can have list of characters, often times we want to access and manipulate the sequence as an aggregate set of text rather than individual letters. \n",
        "\n",
        "12. Strings are identified by the <code>“ ”</code> or alternatively by <code>‘ ’</code>.\n"
      ],
      "metadata": {
        "id": "GgtruN3X2QfE"
      }
    },
    {
      "cell_type": "code",
      "source": [
        "# example that creates a new string variable\n",
        "first_name = 'Katherine'\n",
        "\n",
        "# check variable type\n",
        "type(first_name)\n",
        "\n",
        "# view value of first_name variable\n",
        "first_name"
      ],
      "metadata": {
        "id": "kQYZuiaO2RdR"
      },
      "execution_count": null,
      "outputs": []
    },
    {
      "cell_type": "code",
      "source": [
        "# example that converts integer to string\n",
        "str(10)\n",
        "\n",
        "# example that converts float to string\n",
        "str(15.0)\n",
        "\n",
        "# example that converts boolean to string\n",
        "str(True)"
      ],
      "metadata": {
        "id": "GS33PZGP2STp"
      },
      "execution_count": null,
      "outputs": []
    },
    {
      "cell_type": "markdown",
      "source": [
        "13. Because certain operations on strings are so common, Python includes a variety of built-in methods that you can apply to a string object:\n",
        "\n",
        "## Title Methods\n",
        "\n",
        "14. Let's look at an example that uses different title methods."
      ],
      "metadata": {
        "id": "H3ztQ4_m2Tmn"
      }
    },
    {
      "cell_type": "code",
      "source": [
        "# example using my name\n",
        "name = \"katherine walden\""
      ],
      "metadata": {
        "id": "cGDnFUO22Ufw"
      },
      "execution_count": null,
      "outputs": []
    },
    {
      "cell_type": "markdown",
      "source": [
        "15. Next, we’ll use the `print` function with the method `title`. Python functions and methods always end with a `()`. Methods define an additional action that can be applied to the data."
      ],
      "metadata": {
        "id": "jlAtyW4G2Vzz"
      }
    },
    {
      "cell_type": "code",
      "source": [
        "# example using my name, printed in title case\n",
        "name = \"katherine walden\"\n",
        "print(name.title())"
      ],
      "metadata": {
        "id": "m3L7yw8F2XJE"
      },
      "execution_count": null,
      "outputs": []
    },
    {
      "cell_type": "markdown",
      "source": [
        "16. Your program should output your data with a leading capital letter.\n",
        "\n",
        "17. We can also change the case using the `upper()` method and `lower()` method: `print(name.upper())` outputs your string with all capital letters, while `print(name.lower())` outputs your string in all lower case.\n",
        "\n",
        "- `Katherine Walden`\n",
        "- `KATHERINE WALDEN`\n",
        "- `katherine walden`\n",
        "\n",
        "18. Try adding two additional `print()` functions calling the `name` variable with each of these methods.  \n",
        "\n",
        "<blockquote>Q2: Describe the syntax of the three print statements generated in steps 14-18 in your own words. What is this code doing? Define the function and method for each example.</blockquote>\n",
        "\n",
        "## Concatenation\n",
        "\n",
        "19. Let’s modify our code a bit and create two new variables `first_name` for your first name and `last_name` for your last name. We can then combine these two string variables (called concatenation) in a third variable called `full_name`.\n",
        "\n",
        "20. If we want our first and last name to be separated by a space, we need to tell Python to add one in by including the `“ “`, otherwise, each string will be printed back-to-back."
      ],
      "metadata": {
        "id": "LUCpXNGl2YsT"
      }
    },
    {
      "cell_type": "code",
      "source": [
        "# assign string variables\n",
        "first_name = \"katherine\"\n",
        "last_name = \"walden\"\n",
        "\n",
        "# use concatenation to create new variable\n",
        "full_name = first_name + \" \" + last name\n",
        "\n",
        "# output last variable\n",
        "print(full_name)"
      ],
      "metadata": {
        "id": "6JtEulRc2Z3D"
      },
      "execution_count": null,
      "outputs": []
    },
    {
      "cell_type": "markdown",
      "source": [
        "21. We can then use the `print()` function as we did before to output `full_name` in title case.\n"
      ],
      "metadata": {
        "id": "I0uHkTPZ2atE"
      }
    },
    {
      "cell_type": "code",
      "source": [
        "# assign string variables\n",
        "first_name = \"katherine\"\n",
        "last_name = \"walden\"\n",
        "\n",
        "# use concatenation to create new variable\n",
        "full_name = first_name + \" \" + last name\n",
        "\n",
        "# output last variable in title case as part of print statement\n",
        "print(\"Hello, \" + full_name.title() + \"!\")"
      ],
      "metadata": {
        "id": "PBnk0L3e2bwV"
      },
      "execution_count": null,
      "outputs": []
    },
    {
      "cell_type": "markdown",
      "source": [
        "22. We could combine strings and variables in the same `print()` function to output a full sentence to the screen.\n",
        "\n",
        "23. We could also assign this whole sentence to a variable and return the same output."
      ],
      "metadata": {
        "id": "YiJGvItG2csd"
      }
    },
    {
      "cell_type": "code",
      "source": [
        "# assign string variables\n",
        "first_name = \"katherine\"\n",
        "last_name = \"walden\"\n",
        "\n",
        "# use concatenation to create new variable\n",
        "full_name = first_name + \" \" + last name\n",
        "\n",
        "# use concatenation to create new variable\n",
        "sentence=\"Hello, \" + full_name.title() + \"!\"\n",
        "\n",
        "# output last variable\n",
        "print(sentence)"
      ],
      "metadata": {
        "id": "0swbu7TU2dhZ"
      },
      "execution_count": null,
      "outputs": []
    },
    {
      "cell_type": "markdown",
      "source": [
        "<blockquote>Q3: Explain how each of these two programs (steps 20-23) work in your own words.</blockquote>\n",
        "\n",
        "### Combining Variable Types\n",
        "\n",
        "24. Python works with integers (whole numbers) and floats (any number with a decimal point). Python uses the basic mathematic symbols to perform functions: `+` (add), `-` (subtract), `*` (multiply), `/` (divide). \n",
        "\n",
        "25. Try this program:"
      ],
      "metadata": {
        "id": "iQ57utnd2emI"
      }
    },
    {
      "cell_type": "code",
      "source": [
        "# arithmetic operator examples\n",
        "print(2+3)\n",
        "print(2-3)\n",
        "print(2*3)\n",
        "print(2/3)"
      ],
      "metadata": {
        "id": "vArvya2t2fi2"
      },
      "execution_count": null,
      "outputs": []
    },
    {
      "cell_type": "markdown",
      "source": [
        "<blockquote>Q4: Why does <code>print(2//3)</code> return 0? How would you modify your code to return the decimal number? Why?</blockquote>\n",
        "\n",
        "26. Hint: Try `print(2.0//3.0)` using the floating point integers (numbers with decimal points).\n",
        "\n",
        "27. Let’s write a new program with an integer variable and a string variable. Feel free to modify course number and department if taking this as something other than CSE 10101."
      ],
      "metadata": {
        "id": "pB2E5Ko82mzb"
      }
    },
    {
      "cell_type": "code",
      "source": [
        "# assign string variable\n",
        "course_name=\"Elements of Computing I\"\n",
        "\n",
        "# assign integer variable\n",
        "course_number = 10101\n",
        "\n",
        "# concatenation in print statement\n",
        "print(\"Welcome to \" + course_name.title() + \" CSE:\" + course_number)"
      ],
      "metadata": {
        "id": "vtzml_t72rd5"
      },
      "execution_count": null,
      "outputs": []
    },
    {
      "cell_type": "markdown",
      "source": [
        "28. When you run the program, you will receive an error.\n",
        "\n",
        "29. The `type` error is telling us that we cannot use these two different variable types in the same function. \n",
        "\n",
        "30. When we want numbers to be read as characters rather than numeric digits, w"
      ],
      "metadata": {
        "id": "886NeEeF2syU"
      }
    },
    {
      "cell_type": "code",
      "source": [
        "# concatenation in print statement, using str function to convert course number\n",
        "print(\"Welcome to \" + course_name.title() + \" CSE:\" + str(course_number))"
      ],
      "metadata": {
        "id": "T6aA6AS92trk"
      },
      "execution_count": null,
      "outputs": []
    },
    {
      "cell_type": "markdown",
      "source": [
        "<blockquote>Q5: Explain concatenation in your own words. Why must we convert numbers to strings in the program above? Refer to this example and the previous example.</blockquote>\n",
        "\n",
        "<blockquote>Q6: Write a program that converts integer, float, or boolean values to a string, using the <code>str</code> function.</code></blockquote>\n",
        "\n",
        "## String Length and Access\n",
        "\n",
        "31. We can get the length or size of a string by using the `len` function.\n"
      ],
      "metadata": {
        "id": "38G5_xpy233j"
      }
    },
    {
      "cell_type": "code",
      "source": [
        "# show length/number of characters in first_name variable\n",
        "len(first_name)"
      ],
      "metadata": {
        "id": "6Lx_2nHL25oY"
      },
      "execution_count": null,
      "outputs": []
    },
    {
      "cell_type": "markdown",
      "source": [
        "32. We can also extract (or isolate) individual characters within a string. To do so, we need a way to specify which character we mean. \n",
        "\n",
        "33. This is done by giving each position in the string an `index number` or `index operator`, which is determined by simply counting off (starting at 0) from left to right. \n",
        "\n",
        "34. We then use the index number as a subscript into the string. "
      ],
      "metadata": {
        "id": "3eP7WtRo26is"
      }
    },
    {
      "cell_type": "code",
      "source": [
        "# access first character in string\n",
        "first_name[0]\n",
        "\n",
        "# access last character in string\n",
        "first_name[-1]"
      ],
      "metadata": {
        "id": "N8UrW61p27ak"
      },
      "execution_count": null,
      "outputs": []
    },
    {
      "cell_type": "markdown",
      "source": [
        "35. In Python there is no notion of a character type as there is in languages such as Java or C. So when we check the type for a character in a string, we get back another string."
      ],
      "metadata": {
        "id": "fbethTF-28Wf"
      }
    },
    {
      "cell_type": "code",
      "source": [
        "# show data type for last character in string\n",
        "type(first_name[0])"
      ],
      "metadata": {
        "id": "3q42o5-a29Zh"
      },
      "execution_count": null,
      "outputs": []
    },
    {
      "cell_type": "markdown",
      "source": [
        "36. Another example: let's say we have a variable `color` that includes the string `\"turquoise\"`.\n",
        "\n",
        "37. Then...\n",
        "- `color[0]` holds the letter `t`\n",
        "- `color[1]` holds the letter `u`\n",
        "- `color[2]` holds the letter `r`\n",
        "- etc\n",
        "\n",
        "<blockquote>Q7: Write a program that prompts the user to enter a 6-letter word, and then prints the first, third, and fifth letters of that word.</blockquote>\n",
        " \n",
        "38. A sample output for your program might look like this:\n",
        "\n",
        "```\n",
        "Please enter a 6-letter word: joyful\n",
        "The first, third, and fifth letters are: j y u\n",
        "```\n",
        "\n",
        "39. NOTE: Strings in Python are immutable, which means that you cannot change the elements of a string once it is set.\n",
        "\n",
        "40. The following program will result in a `TypeError`."
      ],
      "metadata": {
        "id": "2Y6UgFfW2-5x"
      }
    },
    {
      "cell_type": "code",
      "source": [
        "# program that attempts to modify character in a string\n",
        "first_name[0] = 'k'"
      ],
      "metadata": {
        "id": "igDxSXW42_9t"
      },
      "execution_count": null,
      "outputs": []
    },
    {
      "cell_type": "markdown",
      "source": [
        "41. So what do you do when you want to update a string? You simply construct a new one!\n"
      ],
      "metadata": {
        "id": "xxE6k7uh3BoH"
      }
    },
    {
      "cell_type": "code",
      "source": [
        "# reassign first_name variable with modified first character\n",
        "first_name = 'k' + first_name[1:]\n",
        "\n",
        "# show reassigned variable\n",
        "first_name"
      ],
      "metadata": {
        "id": "UF7ekMiD3Cit"
      },
      "execution_count": null,
      "outputs": []
    },
    {
      "cell_type": "markdown",
      "source": [
        "## Other String Operations\n",
        "\n",
        "42. Since a string is a sequence of characters, there are a few other operations that work on strings.\n"
      ],
      "metadata": {
        "id": "o_X2MsI73DV9"
      }
    },
    {
      "cell_type": "markdown",
      "source": [
        "### Length\n",
        "\n",
        "43. We've already seen the `len` function in action, but to refresh:"
      ],
      "metadata": {
        "id": "X_9b9ojz3HwC"
      }
    },
    {
      "cell_type": "code",
      "source": [
        "# get length of first_name variable\n",
        "len(first_name)"
      ],
      "metadata": {
        "id": "UBOGU2KV3EXJ"
      },
      "execution_count": null,
      "outputs": []
    },
    {
      "cell_type": "markdown",
      "source": [
        "### Properties\n",
        "\n",
        "44. We can check the properties of characters in a string.\n",
        "- `.isalpha()` checks if all string values are letters\n",
        "- `.isalnum()` checks if string includes only letters and numbers\n",
        "- `.isdigit()` checks if all string values are numbers\n",
        "- `.islower()` checks if all string includes any lower-case characters\n",
        "- `.isspace()` checks if the string includes any whitespace characters\n",
        "- `.istitle()` checks if the string includes any title-case characters\n",
        "- `.isupper()` checks if the string includes any upper-case characters\n",
        "\n",
        "45. To see these string property methods in action in Python syntax:"
      ],
      "metadata": {
        "id": "5FBmiZAM3GDp"
      }
    },
    {
      "cell_type": "code",
      "source": [
        "# checks if all string values are letters\n",
        "'abc123'.isalpha()\n",
        "\n",
        "# checks if string values are letters and numbers\n",
        "'abc123'.isalnum()\n",
        "\n",
        "# checks if all string values are numbers\n",
        "'abc123'.isdigit()\n",
        "\n",
        "# checks if string includes any lower-case characters\n",
        "'abc123'.islower()\n",
        "\n",
        "# checks if string includes any whitespace characters\n",
        "'abc123'.isspace()\n",
        "\n",
        "# checks if string includes any title-case characters\n",
        "'abc123'.istitle()\n",
        "\n",
        "# checks if string includes any upper-case characters\n",
        "'abc123'.isupper()"
      ],
      "metadata": {
        "id": "kDbKtEiy3MK9"
      },
      "execution_count": null,
      "outputs": []
    },
    {
      "cell_type": "markdown",
      "source": [
        "46. These commands return Boolean `True` or `False` values.\n",
        "\n",
        "### Sort\n",
        "\n",
        "47. We can sort characters in a string alphabetically."
      ],
      "metadata": {
        "id": "LJHAbxHk3NWP"
      }
    },
    {
      "cell_type": "code",
      "source": [
        "# sort alphabetically\n",
        "sorted(first_name)"
      ],
      "metadata": {
        "id": "aqO2n3gt3ORL"
      },
      "execution_count": null,
      "outputs": []
    },
    {
      "cell_type": "markdown",
      "source": [
        "48. These commands output the characters in the string in alphabetical order.\n",
        "\n",
        "### Max and Min\n",
        "\n",
        "49. We can also get the maximum or minimum value in the string. \n",
        "\n",
        "50. For strings that are sequences of characters, the minimum value is the character that appears first in the English-language alphabet, and the maximum is the character that appears last in the English-language alphabet."
      ],
      "metadata": {
        "id": "CIfGmans3PHU"
      }
    },
    {
      "cell_type": "code",
      "source": [
        "# get max string letter\n",
        "max(first_name)\n",
        "\n",
        "# get min string letter\n",
        "min(first_name)"
      ],
      "metadata": {
        "id": "ZHDC0MFo3Pu_"
      },
      "execution_count": null,
      "outputs": []
    },
    {
      "cell_type": "markdown",
      "source": [
        "### `in` Operator\n",
        "\n",
        "51. We can also use the `in` operator to check if a character or substring (combination of characters) is present in another string."
      ],
      "metadata": {
        "id": "qJBlP4b13RDt"
      }
    },
    {
      "cell_type": "code",
      "source": [
        "# checks is 'a' is in 'abcd' string\n",
        "'a' in 'abcd'\n",
        "\n",
        "# checks if 'e' is in 'abcd' string\n",
        "'e' in 'abcd'\n",
        "\n",
        "# checks if 'bc' is in 'abcd' string\n",
        "'bc' in 'abcd'"
      ],
      "metadata": {
        "id": "CcrO8k5G3R4L"
      },
      "execution_count": null,
      "outputs": []
    },
    {
      "cell_type": "markdown",
      "source": [
        "52. Each of these `in` operator examples returns a Boolean value, `True` or `False`.\n",
        "\n",
        "### Search\n",
        "\n",
        "53. We can also instruct the computer to search for a given character within a string.\n",
        "\n",
        "54. There are a few different search methods we can use with strings:\n",
        " - `.startswith()` checks if the string starts with a character or substring\n",
        " - `.endswith()` checks if the string ends with a character or substring\n",
        " - `.find()` locates the index position for a specific character or substring\n",
        " - `.index()` also locates the index position for a specific character or substring\n",
        " \n",
        "55. NOTE: The `.find()` method returns `-1` if the character or substring is not found. The `.index()` method will throw an error if the character or substring is not found.\n",
        " \n",
        "56. To see these methods in action using Python syntax:\n",
        " "
      ],
      "metadata": {
        "id": "ad0EJpRH3S_5"
      }
    },
    {
      "cell_type": "code",
      "source": [
        "# checks if string starts with 'the' substring\n",
        "'the boy who blocked his own shot'.startswith('the')\n",
        "\n",
        "# checks if string ends with 'shot' substring\n",
        "the boy who blocked his own shot'.endswith('shot')\n",
        "\n",
        "# locates index position for 'who' substring\n",
        "# note .find() outputs the index position for the first character in the substring\n",
        "'the boy who blocked his own shot'.find('who') \n",
        "\n",
        "# checks if 'who' substring is located at index position 10\n",
        "# note -1 return means the substring was not located at that position\n",
        "'the boy who blocked his own shot'.find('who', 10)\n",
        "\n",
        "# locates index position for 'who' substring\n",
        "'the boy who blocked his own shot'.index('who') \n",
        "\n",
        "# checks if 'who' substring is located at index position 10\n",
        "# unlike .find(), .index() will return a ValueError if the substring is located at that position\n",
        "'the boy who blocked his own shot'.index('who', 10)"
      ],
      "metadata": {
        "id": "qMk3vhqm3UGh"
      },
      "execution_count": null,
      "outputs": []
    },
    {
      "cell_type": "markdown",
      "source": [
        "57. Let's look at another example.\n",
        "\n",
        "58. Say we have a variable `color` holds the string `\"turquoise\"`. \n",
        "\n",
        "59. We can retrieve the index of the letter `q` (which is 3) as follows:"
      ],
      "metadata": {
        "id": "f_DU6sDB3VrE"
      }
    },
    {
      "cell_type": "code",
      "source": [
        "# assign string variable\n",
        "color = \"turquoise\"\n",
        "\n",
        "# get index number of q character\n",
        "index_number = color.index(\"q\")\n",
        "\n",
        "# show index number as part of print statement\n",
        "print (\"The index number for the letter q within the word \" + color + \" is \" + index_number)"
      ],
      "metadata": {
        "id": "UHIkRY783Wpd"
      },
      "execution_count": null,
      "outputs": []
    },
    {
      "cell_type": "markdown",
      "source": [
        "<blockquote>Q8: Modify the program to have it search for other characters in the string. Does it always return the index number you expect? What index is returned if you ask for the index of the letter u (i.e., what happens when the desired character appears more than once in the string)?</blockquote>\n",
        "\n",
        "# Lists\n",
        "\n",
        "<table>\n",
        " <tr><td>\n",
        "<img src=\"https://elearn.southampton.ac.uk/wp-content/blogs.dir/sites/64/2021/04/PanPan.png\" alt=\"Panopto logo\" width=\"50\"/></td>\n",
        "  <td><a href=\"https://notredame.hosted.panopto.com/Panopto/Pages/Viewer.aspx?id=9e9fb874-99d5-4d5b-923b-ad82016231cb\">Lists</a></td>\n",
        "  </tr>\n",
        "  </table>\n",
        "\n",
        "60. Python allows us to store information in a few different ways. \n",
        "\n",
        "61. In this lab, we're focusing on lists, which are an ordered collection of items.\n",
        "\n",
        "62. The individual values in a list are called elements or items. \n",
        "\n",
        "63. Lists have a type and are also considered values themselves."
      ],
      "metadata": {
        "id": "5gWXz3lH3YMu"
      }
    },
    {
      "cell_type": "markdown",
      "source": [
        "## Lists With Numbers"
      ],
      "metadata": {
        "id": "EwEjI2RY3ZGK"
      }
    },
    {
      "cell_type": "code",
      "source": [
        "# create a list containing 4 numbers\n",
        "[0, 1, 2, 3]\n",
        "\n",
        "# assign that list to a variable\n",
        "numbers = [0, 1, 2, 3]\n",
        "\n",
        "# check types of numbers variable\n",
        "type(numbers)"
      ],
      "metadata": {
        "id": "jdYaWh3N3aFW"
      },
      "execution_count": null,
      "outputs": []
    },
    {
      "cell_type": "markdown",
      "source": [
        "64. Although this is rare, list elements do not need to be the same type.\n",
        "\n",
        "```Python\n",
        "[0, 1.0, 'a']\n",
        "```\n",
        "\n",
        "### List Length and Access\n",
        "\n",
        "65. We can use the `len` function to get the length of a list.\n"
      ],
      "metadata": {
        "id": "SXi-N4r_3bvd"
      }
    },
    {
      "cell_type": "code",
      "source": [
        "# show length of numbers list\n",
        "len(numbers)"
      ],
      "metadata": {
        "id": "tTx4YeZg3drA"
      },
      "execution_count": null,
      "outputs": []
    },
    {
      "cell_type": "markdown",
      "source": [
        "66. We can also use the index operator and index position to access and manipulate elements in a list.\n"
      ],
      "metadata": {
        "id": "0sQcualG3erv"
      }
    },
    {
      "cell_type": "code",
      "source": [
        "# access first item in a list\n",
        "numbers[0]\n",
        "\n",
        "# access last item in a list\n",
        "numbers[-1]"
      ],
      "metadata": {
        "id": "G6-oxZQS3f3P"
      },
      "execution_count": null,
      "outputs": []
    },
    {
      "cell_type": "code",
      "source": [
        "# modify first item in a list\n",
        "numbers[0] = 'zero'\n",
        "\n",
        "# show updated list\n",
        "numbers"
      ],
      "metadata": {
        "id": "1__3Y1_R3iuj"
      },
      "execution_count": null,
      "outputs": []
    },
    {
      "cell_type": "markdown",
      "source": [
        "67. A few other notes on index operators:\n",
        "\n",
        "68. Indeces can be any integer expression.\n",
        "\n",
        "69. A few examples:"
      ],
      "metadata": {
        "id": "xuSN-u2g3j6Z"
      }
    },
    {
      "cell_type": "code",
      "source": [
        "# `numbers[0+1]` is the same as `numbers[1]`\n",
        "numbers[0+1]\n",
        "numbers[1]\n",
        "\n",
        "# index position stored as a variable\n",
        "index = 1\n",
        "numbers[index]\n",
        "numbers[1]\n",
        "\n",
        "# index position as a multiplication product\n",
        "numbers[index * 2]\n",
        "numbers[2]"
      ],
      "metadata": {
        "id": "hIBc48Ui3lAk"
      },
      "execution_count": null,
      "outputs": []
    },
    {
      "cell_type": "markdown",
      "source": [
        "70. An invalid index will yield an IndexError.\n"
      ],
      "metadata": {
        "id": "E3ME51kK3l5Z"
      }
    },
    {
      "cell_type": "code",
      "source": [
        "# example of invalid index\n",
        "numbers[1000]"
      ],
      "metadata": {
        "id": "jvCq6qvj3nGi"
      },
      "execution_count": null,
      "outputs": []
    },
    {
      "cell_type": "markdown",
      "source": [
        "71. And as covered with strings, a negative index will start at the end of the list and count right to left.\n"
      ],
      "metadata": {
        "id": "VwaqXs5d3oNE"
      }
    },
    {
      "cell_type": "code",
      "source": [
        "# access last item in list\n",
        "numbers[-1]\n",
        "\n",
        "# access next to last item in list\n",
        "numbers[-2]"
      ],
      "metadata": {
        "id": "Gddif2-03o2A"
      },
      "execution_count": null,
      "outputs": []
    },
    {
      "cell_type": "markdown",
      "source": [
        "### Modifying Lists\n",
        "\n",
        "72. While strings are immutable, items in a list can be modified.\n",
        "\n",
        "73. An example we've seen before that modifies a single list item."
      ],
      "metadata": {
        "id": "qRiGCwHi3qi2"
      }
    },
    {
      "cell_type": "code",
      "source": [
        "# modify first item in a list\n",
        "numbers[0] = 'zero'\n",
        "\n",
        "# show updated list\n",
        "numbers"
      ],
      "metadata": {
        "id": "7_AQwEkY3p_W"
      },
      "execution_count": null,
      "outputs": []
    },
    {
      "cell_type": "markdown",
      "source": [
        "#### Growing Lists\n",
        "\n",
        "74. We can also grow an existing list using the `.append()` or `.extend()` methods."
      ],
      "metadata": {
        "id": "xMGO6GyW3s20"
      }
    },
    {
      "cell_type": "code",
      "source": [
        "# add integer 4 to end of numbers list\n",
        "numbers.append(4)\n",
        "\n",
        "# show updated list\n",
        "numbers\n",
        "\n",
        "# add [5,6,7] to end of numbers list\n",
        "numbers.extend(range(5, 8))\n",
        "\n",
        "# show updated list\n",
        "numbers"
      ],
      "metadata": {
        "id": "lsfqimiG3t4b"
      },
      "execution_count": null,
      "outputs": []
    },
    {
      "cell_type": "markdown",
      "source": [
        "75. To unpack what happened in that last bit of code- the `range()` function returns a sequence of numbers.\n",
        "\n",
        "76. The default `range()` function starts at `0`, but in this example we start at `5`. The default `range()` function moves by increments of `1` and stops before a specified number. In our example, `range()` stops before 8.\n",
        "\n",
        "#### A Quick Detour Into `range()`\n",
        "\n",
        "77. The core syntax for range: `range(start, stop, step)`\n",
        "\n",
        "78. You may have expected to see the numbers one to ten printed. This is yet another example of the quirks of working with programming languages.\n",
        "\n",
        "79. Python starts with the first number and quits when it reaches the last number of your range. Because it stops at 10, it doesn’t include the 10.\n",
        "\n",
        "80. We can actually create lists using `range()`. In this example we'll wrap the `list()` function around the `range()` function to create a list of numbers."
      ],
      "metadata": {
        "id": "Uidn_Jn73vO9"
      }
    },
    {
      "cell_type": "code",
      "source": [
        "# create list of numbers\n",
        "numbers = list(range(1,10))\n",
        "\n",
        "# show list of numbers\n",
        "print(numbers)"
      ],
      "metadata": {
        "id": "GtbNOR1s3yXn"
      },
      "execution_count": null,
      "outputs": []
    },
    {
      "cell_type": "markdown",
      "source": [
        "<blockquote>Q9: How would you modify this code to output the full range 1-10?</blockquote>\n",
        "\n",
        "81. What if we just wanted the odd numbers in this range? \n",
        "\n",
        "82. We could add an additional value to the range function to tell the computer to count by two.\n",
        "\n",
        "83. A example that changes the step interval."
      ],
      "metadata": {
        "id": "0r3LY-qt3zV_"
      }
    },
    {
      "cell_type": "code",
      "source": [
        "# create list of numbers with specific start/stop/step interval values\n",
        "numbers = list(range(1,11,2))\n",
        "\n",
        "# show list\n",
        "print(numbers)"
      ],
      "metadata": {
        "id": "DoQVy9ME30C_"
      },
      "execution_count": null,
      "outputs": []
    },
    {
      "cell_type": "markdown",
      "source": [
        "<blockquote>Q10: How would you rewrite the code to include only the even numbers from 1 to 10?</blockquote>\n",
        "\n",
        "#### Deleting Items from Lists\n",
        "\n",
        "85. We can delete items from a list using the `pop()` method or the `del` statement."
      ],
      "metadata": {
        "id": "tLY41zXT31IV"
      }
    },
    {
      "cell_type": "code",
      "source": [
        "# remove an item at index 0 and return just that item\n",
        "numbers.pop(0)\n",
        "\n",
        "# remove an item at index 0\n",
        "del numbers[0]"
      ],
      "metadata": {
        "id": "kNh63q14313r"
      },
      "execution_count": null,
      "outputs": []
    },
    {
      "cell_type": "markdown",
      "source": [
        "### Empty Lists\n",
        "\n",
        "86. A list with no items is called an empty list.\n",
        "\n",
        "87. We can also use the `list()` argument to create an empty list.\n",
        "\n",
        "88. Examples in Python syntax:"
      ],
      "metadata": {
        "id": "ALljQRt332-t"
      }
    },
    {
      "cell_type": "code",
      "source": [
        "# create empty list\n",
        "[]\n",
        "\n",
        "# create empty list using list()\n",
        "list()"
      ],
      "metadata": {
        "id": "U_gWEGP633sh"
      },
      "execution_count": null,
      "outputs": []
    },
    {
      "cell_type": "markdown",
      "source": [
        "### Nesting and Sublists\n",
        "\n",
        "89. Lists can also contain other lists- this is referred to as nested lists or sub-lists."
      ],
      "metadata": {
        "id": "dpaOuvJf34pD"
      }
    },
    {
      "cell_type": "code",
      "source": [
        "# create list with two sub-lists\n",
        "points = [[0, 1], [2, 3]]\n",
        "\n",
        "# show list\n",
        "points\n",
        "\n",
        "# access first item on list, which is a sublist\n",
        "points[0]\n",
        "\n",
        "# access first item WITHIN second item on list; \n",
        "# core syntax: list_name[list_item_number][sublist_item_number]\n",
        "points[1][0]"
      ],
      "metadata": {
        "id": "_qk-hIJD357E"
      },
      "execution_count": null,
      "outputs": []
    },
    {
      "cell_type": "markdown",
      "source": [
        "### Other List Operations\n"
      ],
      "metadata": {
        "id": "tCYF74b736u0"
      }
    },
    {
      "cell_type": "markdown",
      "source": [
        "#### Lists and the `in` Operator\n",
        "\n",
        "90. Like with strings, we can use the `in` operator to test if a list contains a specific value.\n"
      ],
      "metadata": {
        "id": "x3UOw_Gg37e2"
      }
    },
    {
      "cell_type": "code",
      "source": [
        "# checks if 0 is i numbers\n",
        "0 in numbers\n",
        "\n",
        "# checks if 5 is in numbers\n",
        "5 in numbers"
      ],
      "metadata": {
        "id": "tEAp5RHE38L-"
      },
      "execution_count": null,
      "outputs": []
    },
    {
      "cell_type": "markdown",
      "source": [
        "91. Both of these commands return Boolean `True` or `False` statements.\n",
        "\n",
        "#### List Concatenation\n",
        "\n",
        "92. We can concatenate (or join) two lists using the `+` operator.\n"
      ],
      "metadata": {
        "id": "LAE_jUUT39ar"
      }
    },
    {
      "cell_type": "code",
      "source": [
        "# sample concatenation syntax\n",
        "[0, 1, 2,] + [3, 4, 5]"
      ],
      "metadata": {
        "id": "_sRwNwMo3-U1"
      },
      "execution_count": null,
      "outputs": []
    },
    {
      "cell_type": "markdown",
      "source": [
        "#### Copying\n",
        "\n",
        "93. We can copy a list using the `*` (multiplication) operator."
      ],
      "metadata": {
        "id": "7HLBQEVG3_SL"
      }
    },
    {
      "cell_type": "code",
      "source": [
        "# sample copy syntax\n",
        "[0, 1, 2] * 3"
      ],
      "metadata": {
        "id": "o4JWdHcz4AAN"
      },
      "execution_count": null,
      "outputs": []
    },
    {
      "cell_type": "markdown",
      "source": [
        "#### Sorting\n",
        "\n",
        "94. As with strings, we can sort the items in our list.\n",
        "\n",
        "95. We have two options when sorting items in a list.\n",
        "\n",
        "96. Sorting a list **in-place** changes the underlying order of items in the list.\n",
        "\n",
        "97. Generating a sorted version of a list **does not** change the underlying order of items in the list.\n",
        "\n",
        "98. Let's look at a few examples using Python syntax."
      ],
      "metadata": {
        "id": "epXHv6nH4BHK"
      }
    },
    {
      "cell_type": "code",
      "source": [
        "# create numbers list\n",
        "numbers = [2, 4, 1, 3]\n",
        "\n",
        "# sort list in place to update list order\n",
        "numbers.sort()\n",
        "\n",
        "# show updated list\n",
        "numbers"
      ],
      "metadata": {
        "id": "bROlV-eu4B8g"
      },
      "execution_count": null,
      "outputs": []
    },
    {
      "cell_type": "code",
      "source": [
        "# generate sorted version of list; DOES NOT change underlying order\n",
        "sorted(numbers)\n",
        "\n",
        "# will return original list order\n",
        "numbers\n",
        "\n",
        "# assign results of sorted() to new variable\n",
        "sorted_numbers = sorted(numbers)\n",
        "\n",
        "# show new variable with sorted list\n",
        "sorted_numbers"
      ],
      "metadata": {
        "id": "2XL4B8FN4DaC"
      },
      "execution_count": null,
      "outputs": []
    },
    {
      "cell_type": "markdown",
      "source": [
        "##### Reverse\n",
        "\n",
        "99. We can reverse a list using the `.reverse()` method of the `reversed()` function.\n",
        "\n",
        "100. As with `.sort()` and `sorted()`, we have the option to reverse in-place or generate a reversed version of the original list.\n",
        "\n",
        "101. To demonstrate using Python syntax:"
      ],
      "metadata": {
        "id": "ivagEMRe4EV8"
      }
    },
    {
      "cell_type": "code",
      "source": [
        "# create list using range()\n",
        "numbers = range(0, 7)\n",
        "\n",
        "# reverse list in-place\n",
        "numbers.reverse()\n",
        "\n",
        "# show reversed list\n",
        "numbers"
      ],
      "metadata": {
        "id": "aSRHIJyb4FeF"
      },
      "execution_count": null,
      "outputs": []
    },
    {
      "cell_type": "markdown",
      "source": [
        "#### Utility Functions\n",
        "\n",
        "102. A few other functions that come in handy when working with lists that contain numbers.\n",
        "- `sum()` calculates the sum of items in a list\n",
        "- `max()` identifies the highest value in a list\n",
        "- `min()` identifies the lowest value in a list\n",
        "- `random.choice()` selects a list item at random\n",
        "- `random.shuffle()` shuffles items in a list in-place\n",
        "- `random.sample()` samples a select number of items from a list\n",
        "\n",
        "103. Examples for each in Python syntax:"
      ],
      "metadata": {
        "id": "v-HzcLmY4GxP"
      }
    },
    {
      "cell_type": "code",
      "source": [
        "# compute the sum of a list\n",
        "sum([0, 1, 2, 3])\n",
        "\n",
        "# assign list to variable \n",
        "list = ([0, 1, 2, 3])\n",
        "\n",
        "# compute sum of list using variable name\n",
        "sum(list)"
      ],
      "metadata": {
        "id": "K7-wAjw74Htb"
      },
      "execution_count": null,
      "outputs": []
    },
    {
      "cell_type": "code",
      "source": [
        "# find max value of list\n",
        "max([0, 1, 2, 3])\n",
        "\n",
        "# find max value of list using variable name\n",
        "max(list)"
      ],
      "metadata": {
        "id": "WJlL5QGL4Iyk"
      },
      "execution_count": null,
      "outputs": []
    },
    {
      "cell_type": "code",
      "source": [
        "# find min value of list\n",
        "min([0, 1, 2, 3])\n",
        "\n",
        "# find min value using list variable\n",
        "min(list)"
      ],
      "metadata": {
        "id": "HrhtBRC24JyW"
      },
      "execution_count": null,
      "outputs": []
    },
    {
      "cell_type": "markdown",
      "source": [
        "NOTE: To use any of the `random` functions, we would first need to import the `random` module.\n"
      ],
      "metadata": {
        "id": "1uJKbKWU4MIP"
      }
    },
    {
      "cell_type": "code",
      "source": [
        "# import random module\n",
        "import random\n",
        "\n",
        "# select element at random\n",
        "random.choice(list)"
      ],
      "metadata": {
        "id": "MoEQ1kmV4NGd"
      },
      "execution_count": null,
      "outputs": []
    },
    {
      "cell_type": "code",
      "source": [
        "# shuffle a list in-place\n",
        "random.shuffle(list)\n",
        "\n",
        "# show updated/shuffled list\n",
        "print(list)"
      ],
      "metadata": {
        "id": "-q_LweTz4N6H"
      },
      "execution_count": null,
      "outputs": []
    },
    {
      "cell_type": "code",
      "source": [
        "# sample 2 elements from a list\n",
        "# core syntax: random.sample(list_name, number_of_elements)\n",
        "random.sample(list, 2)"
      ],
      "metadata": {
        "id": "AOxmw7ka4Oxh"
      },
      "execution_count": null,
      "outputs": []
    },
    {
      "cell_type": "markdown",
      "source": [
        "### Looking Ahead\n",
        "\n",
        "104. In the next lab, we'll talk all about conditional statements.\n",
        "\n",
        "105. But for now, let's take a step back and think about how Python interacts with or treats the items in our list.\n",
        "\n",
        "106. For example, when we're using the `in` operator, how does Python test for membership (i.e. see if the value we're looking for is located in the list)?\n",
        "\n",
        "107. Python accomplishes this via **iteration**, which involves iterating over each item in the list. \n",
        "\n",
        "108. So Python starts at the first item in the list (index position `0`), and goes through each item on the list (left to right) until it reaches the end of the list.\n",
        "\n",
        "109. Again, we will have a whole lab on conditional statements, but a few quick examples for now just to illustrate the concept of iteration.\n",
        "\n",
        "110. We can use a **`for` loop** to iterate over the items in a list."
      ],
      "metadata": {
        "id": "OWjCU2_D4P9Y"
      }
    },
    {
      "cell_type": "code",
      "source": [
        "# sample for loop that iterates over items in list\n",
        "for number in numbers:\n",
        " print(number)"
      ],
      "metadata": {
        "id": "2Md0K6hR4RMR"
      },
      "execution_count": null,
      "outputs": []
    },
    {
      "cell_type": "markdown",
      "source": [
        "111. We can iterate over just the indeces in the list.\n"
      ],
      "metadata": {
        "id": "s_gQKD9A4SCu"
      }
    },
    {
      "cell_type": "code",
      "source": [
        "# sample for loop that iterates over index values for items in list\n",
        "for i in range(len(numbers)):\n",
        " print(number[i])"
      ],
      "metadata": {
        "id": "kP7z1MRi4VmO"
      },
      "execution_count": null,
      "outputs": []
    },
    {
      "cell_type": "markdown",
      "source": [
        "112. We can retrieve the item and the index position using the `enumerate()` function.\n"
      ],
      "metadata": {
        "id": "yriSuC_A4S4S"
      }
    },
    {
      "cell_type": "code",
      "source": [
        "# sample for loop that gets list value and index using enumerate\n",
        "for i, number in enumerate(numbers):\n",
        " print(i, number)"
      ],
      "metadata": {
        "id": "y4eIaR9S4Wyl"
      },
      "execution_count": null,
      "outputs": []
    },
    {
      "cell_type": "markdown",
      "source": [
        "113. Again, more to come on conditional statements and loops.\n",
        "\n",
        "### Lab Notebook Questions on Lists with Numbers\n",
        "\n",
        "Q11: Create the list numbers with the following values: `[[0, 1], [2, 3], [4, 5]]`.\n",
        "- What is the second element?\n",
        "- How would you change 4 to 'four'?\n",
        "- How would you change 1 to 'one'?\n",
        "- How would you print out each sub-list (one sub-list per line)?\n",
        "- How would you print out each number (one number per line)?\n",
        "\n",
        "Q12: Create your own list of numbers. Include your list code as part of this question answer. What is the length of your list? What is the number position for each of the items in your list? How would you return the value of the first item? How would you return the value of the last item?\n",
        "\n",
        "Q13: Using the same list from the previous question, write a program that includes the following steps or components:\n",
        "- Adds a new item to your list\n",
        "- Deletes an item from your list\n",
        "- Sorts your list in-place\n",
        "- Generates a sorted version of your list\n",
        "- Reverses your list in-place\n",
        "- Determines the `min` and `max` values for your list\n",
        "- Selects a list element at random\n",
        "- Shuffles your list"
      ],
      "metadata": {
        "id": "6oiFSelO4YDh"
      }
    },
    {
      "cell_type": "markdown",
      "source": [
        "## Lists With Strings\n",
        "\n",
        "114. Now let's put lists and strings together.\n",
        "\n",
        "115. In the previous section of the lab, we focused on lists consisting of numbers.\n",
        "\n",
        "116. Lists can also contain characters, or in this case, strings.\n",
        "\n",
        "117. Write a list of a few of your favorite things."
      ],
      "metadata": {
        "id": "GXRyNTce4ZhE"
      }
    },
    {
      "cell_type": "code",
      "source": [
        "# sample list of strings\n",
        "cookies = ['chocolate chip', 'snickerdoodle', 'peanut butter', 'sugar']"
      ],
      "metadata": {
        "id": "t6b4lodK4aVC"
      },
      "execution_count": null,
      "outputs": []
    },
    {
      "cell_type": "markdown",
      "source": [
        "118. We can print this list with a print function `print(cookies)`, but Python returns a representation of the list, just as we entered it.\n",
        "`['chocolate chip', 'snickerdoodle', 'peanut butter', 'sugar']`\n",
        "\n",
        "119. This isn’t particularly useful by itself; however, we can use the position of each item (the `index`) to perform different functions.\n",
        "\n",
        "120. Add a `print()` function calling a specific item on your list."
      ],
      "metadata": {
        "id": "1ehdaInv4bVs"
      }
    },
    {
      "cell_type": "code",
      "source": [
        "# output first item in the list in title case\n",
        "print(cookies[0].title())"
      ],
      "metadata": {
        "id": "pDSLZ3PS4ccF"
      },
      "execution_count": null,
      "outputs": []
    },
    {
      "cell_type": "markdown",
      "source": [
        "121. This command returns the first item on my list. This is the item in the `0` position on my list.\n",
        "```Python\n",
        "Chocolate Chip\n",
        "```\n",
        "\n",
        "122. Items in a list are indexed with a number, **beginning with 0 NOT 1.**\n",
        "\n",
        "123. A `print` function that outputs the last item on my list of four items would look like this."
      ],
      "metadata": {
        "id": "TDutBRJI4dKZ"
      }
    },
    {
      "cell_type": "code",
      "source": [
        "# output fourth item in list in title case\n",
        "print(cookies[3].title())"
      ],
      "metadata": {
        "id": "CwW4BLdB4fdm"
      },
      "execution_count": null,
      "outputs": []
    },
    {
      "cell_type": "markdown",
      "source": [
        "124. We can also work backwards (left-to-right) on our list using negative numbers. For example, to call the last item on the list we could also use the index position `-1`.\n"
      ],
      "metadata": {
        "id": "Ga3plPsJ4gd2"
      }
    },
    {
      "cell_type": "code",
      "source": [
        "# output last item in list in title case using negative index\n",
        "print(cookies[-1].title())"
      ],
      "metadata": {
        "id": "saRSc-144hVV"
      },
      "execution_count": null,
      "outputs": []
    },
    {
      "cell_type": "markdown",
      "source": [
        "125. To return the second to last item, we could use `-2`. For the third to last `-3`, etc.\n",
        "\n",
        "126. We can concatenate our list items in strings."
      ],
      "metadata": {
        "id": "4Q0c0frb4iv-"
      }
    },
    {
      "cell_type": "code",
      "source": [
        "# print statement that includes concatenation\n",
        "print(\"My favorite cookie to bake is \" + cookies[1].title() + \".\")"
      ],
      "metadata": {
        "id": "_cNAo7LJ4jaW"
      },
      "execution_count": null,
      "outputs": []
    },
    {
      "cell_type": "markdown",
      "source": [
        "127. Which outputs `My favorite cookie to bake is snickerdoodle.`\n",
        "\n",
        "128. We can also change the items in a list. \n",
        "\n",
        "129. Maybe I have a friend who is allergic to peanut butter. I can change the `peanut butter` entry."
      ],
      "metadata": {
        "id": "ETuvmhp34kr7"
      }
    },
    {
      "cell_type": "code",
      "source": [
        "# change third item in list\n",
        "cookies[2] = 'oatmeal'\n",
        "\n",
        "# show updated list\n",
        "print(cookies)"
      ],
      "metadata": {
        "id": "En136R6G4lsr"
      },
      "execution_count": null,
      "outputs": []
    },
    {
      "cell_type": "markdown",
      "source": [
        "130. The `print()` function outputs the modified list.\n",
        "`['chocolate chip', 'snickerdoodle', 'oatmeal', 'sugar']`\n",
        "\n",
        "131. We can also add data to our list using the append function."
      ],
      "metadata": {
        "id": "RGphIPAq4my1"
      }
    },
    {
      "cell_type": "code",
      "source": [
        "# recreate original list\n",
        "cookies = ['chocolate chip', 'snickerdoodle', 'peanut butter', 'sugar']\n",
        "\n",
        "# append value to end of list\n",
        "cookies.append('oatmeal')\n",
        "\n",
        "# show updated list\n",
        "print(cookies)"
      ],
      "metadata": {
        "id": "f2Gfca294nhs"
      },
      "execution_count": null,
      "outputs": []
    },
    {
      "cell_type": "markdown",
      "source": [
        "132. The `print()` function now returns a list of five items `[chocolate chip, snickerdoodle, peanut butter, sugar, oatmeal]`\n",
        "\n",
        "133. We can also use `append()` to create new lists."
      ],
      "metadata": {
        "id": "ULi1o9np4otc"
      }
    },
    {
      "cell_type": "code",
      "source": [
        "# create empty list\n",
        "my_pets = []\n",
        "\n",
        "# append values to list\n",
        "my_pets.append('Christy Mathewson')\n",
        "my_pets.append('Smoky Jo Wood')\n",
        "my_pets.append('Sandy Koufax')\n",
        "\n",
        "# show updated list\n",
        "print(my_pets)"
      ],
      "metadata": {
        "id": "Afm8IjTn4pkd"
      },
      "execution_count": null,
      "outputs": []
    },
    {
      "cell_type": "markdown",
      "source": [
        "134. In this block of code, we started with an empty list `[]`. Then the next two lines with `append()` add new items to the list.\n",
        "\n",
        "135. With `append()`, items are added to the end of the list. \n",
        "\n",
        "136. The `insert()` function allows us to add items to any position in the list."
      ],
      "metadata": {
        "id": "-w0lUUdk4rOr"
      }
    },
    {
      "cell_type": "code",
      "source": [
        "# create list of fruits\n",
        "fruit = ['apple', 'pear', 'banana']\n",
        "\n",
        "# insert new value at specific location\n",
        "fruit.insert(1, 'orange')\n",
        "\n",
        "# show updated list\n",
        "print(fruit)"
      ],
      "metadata": {
        "id": "6FXRyHBA4sPs"
      },
      "execution_count": null,
      "outputs": []
    },
    {
      "cell_type": "markdown",
      "source": [
        "137. This block of code adds orange to the second position on the list (index position 1).\n",
        "\n",
        "138. The output is `['apple', 'orange', 'kiwi', 'banana']`\n",
        "\n",
        "139. Conversely, the `del` statement allows you to delete items from your list using the index number.\n",
        "\n",
        "140. The following code will remove `orange` from the list."
      ],
      "metadata": {
        "id": "3GgOiv3R4thA"
      }
    },
    {
      "cell_type": "code",
      "source": [
        "# recreate original list\n",
        "fruit = ['apple', 'orange', 'pear', 'banana']\n",
        "\n",
        "# remove second value\n",
        "del fruit[1]\n",
        "\n",
        "# show updated list\n",
        "print(fruit)"
      ],
      "metadata": {
        "id": "9p9xrpjh4upV"
      },
      "execution_count": null,
      "outputs": []
    },
    {
      "cell_type": "markdown",
      "source": [
        "141. We can also delete items by value (instead of position) using `remove()`.\n"
      ],
      "metadata": {
        "id": "ZigGvp6u4ve1"
      }
    },
    {
      "cell_type": "code",
      "source": [
        "# recreate original list\n",
        "fruit = ['apple', 'orange', 'pear', 'banana']\n",
        "\n",
        "# remove specific string\n",
        "fruit.remove('orange')\n",
        "\n",
        "# show updated list\n",
        "print(fruit)"
      ],
      "metadata": {
        "id": "W7HuHvm74wcO"
      },
      "execution_count": null,
      "outputs": []
    },
    {
      "cell_type": "markdown",
      "source": [
        "<blockquote><code>remove</code> only removes the first instance of the value in the list. So, if in the previous example orange appeared on the list a second time, only the first instance would be removed. To remove all instances, you would need to perform a loop (we’ll talk about loops later in the semester).</blockquote>\n",
        "\n",
        "### List Functions and String Elements\n",
        "\n",
        "142. Many of the list functions covered in the section of the lab focused on lists with numbers can also work on lists that contain strings."
      ],
      "metadata": {
        "id": "7hRuYHPH4xbq"
      }
    },
    {
      "cell_type": "markdown",
      "source": [
        "#### `Len`\n",
        "\n",
        "143. To find the length of your list, use the `len()` function."
      ],
      "metadata": {
        "id": "MmlTyCB84yYO"
      }
    },
    {
      "cell_type": "code",
      "source": [
        "# recreate original list\n",
        "fruit = ['apple', 'orange', 'pear', 'banana']\n",
        "\n",
        "# get length of list and assign to variable\n",
        "length = len(fruit)\n",
        "\n",
        "# output length\n",
        "print(length)"
      ],
      "metadata": {
        "id": "Gab2JeXc4ztE"
      },
      "execution_count": null,
      "outputs": []
    },
    {
      "cell_type": "code",
      "source": [
        "# alternative syntax\n",
        "len(fruit)"
      ],
      "metadata": {
        "id": "4AzCxj1_40Vx"
      },
      "execution_count": null,
      "outputs": []
    },
    {
      "cell_type": "markdown",
      "source": [
        "#### `Sort`\n",
        "\n",
        "144. To alphabetize your list, use the `sort()` method."
      ],
      "metadata": {
        "id": "AgBn_MAA41TI"
      }
    },
    {
      "cell_type": "code",
      "source": [
        "# sort list\n",
        "fruit.sort()\n",
        "\n",
        "# show sorted list\n",
        "print(fruit)"
      ],
      "metadata": {
        "id": "kazBw_m442Ao"
      },
      "execution_count": null,
      "outputs": []
    },
    {
      "cell_type": "markdown",
      "source": [
        "#### `Reverse`\n",
        "\n",
        "145. To print in reverse order, use `reverse()`."
      ],
      "metadata": {
        "id": "-qjOsm3q43Ao"
      }
    },
    {
      "cell_type": "code",
      "source": [
        "# reverse sort list\n",
        "fruit.reverse()\n",
        "\n",
        "# show sorted list\n",
        "print(fruit)"
      ],
      "metadata": {
        "id": "FxLOX9Ri4312"
      },
      "execution_count": null,
      "outputs": []
    },
    {
      "cell_type": "markdown",
      "source": [
        "### Lab Notebook Questions on Lists With Strings \n",
        "\n",
        "146. To recap: Lists are an ordered collection of items. Lists can be numbers or strings. They are declared with a variable name, but the information is contained within `[ ]` and the individual items are separated by a comma. \n",
        "\n",
        "Q14: Create your own list of strings. Include your list code as part of this question answer. What is the length of your list? What is the number position for each of the items in your list? How would you return the value of the first item? How would you return the value of the last item?\n",
        "\n",
        "Q15: Using the same list from the previous question, write a program that includes the following steps or components:\n",
        "- Adds a new item to your list\n",
        "- Deletes an item from your list\n",
        "- Sorts your list in-place\n",
        "- Generates a sorted version of your list\n",
        "- Reverses your list in-place\n",
        "- Determines the `min` and `max` values for your list\n",
        "- Selects a list element at random\n",
        "- Shuffles your list\n",
        "\n",
        "Q16: What is the difference between a `list` and a `string`? What are some methods you can perform on a `list` that you can't do with a `string` (and vice versa)?"
      ],
      "metadata": {
        "id": "D-MsFzS547Dq"
      }
    },
    {
      "cell_type": "markdown",
      "source": [
        "# Dictionaries\n",
        "\n",
        "<table>\n",
        " <tr><td>\n",
        "<img src=\"https://elearn.southampton.ac.uk/wp-content/blogs.dir/sites/64/2021/04/PanPan.png\" alt=\"Panopto logo\" width=\"50\"/></td>\n",
        "  <td><a href=\"https://notredame.hosted.panopto.com/Panopto/Pages/Viewer.aspx?id=5a24f407-5860-4d8b-8aea-ad8201622e0f\">Dictionaries</a></td>\n",
        "  </tr>\n",
        "  </table>\n",
        "\n",
        "<p align=\"center\"><a href=\"https://github.com/kwaldenphd/python-dictionaries-sets/blob/master/figures/Dic_1.png?raw=true\"><img class=\"aligncenter\" src=\"https://github.com/kwaldenphd/python-dictionaries-sets/blob/master/figures/Dic_1.png?raw=true\" /></a></p>\n",
        "\n",
        "<p align=\"center\"><a href=\"https://github.com/kwaldenphd/python-dictionaries-sets/blob/master/figures/Dic_2.png?raw=true\"><img class=\"aligncenter\" src=\"https://github.com/kwaldenphd/python-dictionaries-sets/blob/master/figures/Dic_2.png?raw=true\" /></a></p>\n",
        "\n",
        "147. A dictionary is a mapping between a set of indices (keys) and a set of values. \n",
        "\n",
        "148. Each key maps to a value. \n",
        "\n",
        "149.  The association of a key and a value is called a key-value pair."
      ],
      "metadata": {
        "id": "BAHHbTVt48KA"
      }
    },
    {
      "cell_type": "markdown",
      "source": [
        "## Creating a Dictionary\n",
        "\n",
        "150. We have two options for creating a dictionary.\n",
        "\n",
        "151. We can use the `dict()` function or the `{}` syntax.\n",
        "\n",
        "152. Examples for each:"
      ],
      "metadata": {
        "id": "Vfti0woR_dPT"
      }
    },
    {
      "cell_type": "code",
      "source": [
        "# creating empty dictionary using dict()\n",
        "english_to_french = dict({})\n",
        "\n",
        "# check variable type\n",
        "type(english_to_french)\n",
        "\n",
        "# create dictionary this time with key-value pairs\n",
        "english_to_french = dict({\n",
        "  'one': 'un',\n",
        "  'two': 'deux',\n",
        "  'three': 'trois',\n",
        "  'four': 'quatre',\n",
        "  'five': 'cinq'\n",
        "})"
      ],
      "metadata": {
        "id": "GHucPqCS_erC"
      },
      "execution_count": null,
      "outputs": []
    },
    {
      "cell_type": "code",
      "source": [
        "# create empty dictionary using curly brackets {}\n",
        "english_to_french = {}\n",
        "\n",
        "# check variable type\n",
        "type(english_to_french)\n",
        "\n",
        "# create dictionary this time with key-value pairs\n",
        "english_to_french = {\n",
        "  'one': 'un',\n",
        "  'two': 'deux',\n",
        "  'three': 'trois',\n",
        "  'four': 'quatre',\n",
        "  'five': 'cinq'\n",
        "}"
      ],
      "metadata": {
        "id": "DUztt0RN_fvC"
      },
      "execution_count": null,
      "outputs": []
    },
    {
      "cell_type": "markdown",
      "source": [
        "## Interacting With A Dictionary\n",
        "\n",
        "153. Now that we have a dictionary, we can start to bring in some of the syntax covered in previous labs.\n"
      ],
      "metadata": {
        "id": "Yqe2hbLG_hQB"
      }
    },
    {
      "cell_type": "code",
      "source": [
        "# print dictionary\n",
        "print(english_to_french)"
      ],
      "metadata": {
        "id": "ymMbUgrY_lKw"
      },
      "execution_count": null,
      "outputs": []
    },
    {
      "cell_type": "markdown",
      "source": [
        "154. Notice that when we print the dictionary, the key-value pairs are **unsorted** and do not appear in the order in which we added them.\n",
        "\n",
        "155. Due to the nature of the dictionary data structure, we cannot make any assumptions about the order in which items appear in the dictionary.\n",
        "\n",
        "156. We can use the index operator to read the value for a particular key."
      ],
      "metadata": {
        "id": "Ti6hNsxC_qiz"
      }
    },
    {
      "cell_type": "code",
      "source": [
        "# access value for 'one' key\n",
        "english_to_french['one']"
      ],
      "metadata": {
        "id": "OgdU2kab_rSc"
      },
      "execution_count": null,
      "outputs": []
    },
    {
      "cell_type": "markdown",
      "source": [
        ""
      ],
      "metadata": {
        "id": "6GZuREWT_wsd"
      }
    },
    {
      "cell_type": "markdown",
      "source": [
        "157. If we try to access the value for a key that does not exist, Python will return a KeyError.\n"
      ],
      "metadata": {
        "id": "daordJfV_r0c"
      }
    },
    {
      "cell_type": "code",
      "source": [
        "# code that will return a key error\n",
        "english_to_french['asdf']"
      ],
      "metadata": {
        "id": "0rd9TyZi_soA"
      },
      "execution_count": null,
      "outputs": []
    },
    {
      "cell_type": "markdown",
      "source": [
        "158. We can test for membership using  the `in` operator.\n"
      ],
      "metadata": {
        "id": "MgBKDeKf_te0"
      }
    },
    {
      "cell_type": "code",
      "source": [
        "# check for 'asdf' string\n",
        "'asdf' in english_to_french\n",
        "\n",
        "# check for 'one' string\n",
        "'one' in english_to_french\n",
        "\n",
        "# check for 'un' string\n",
        "'un' in english_to_french"
      ],
      "metadata": {
        "id": "qrfjb2Yx_uSh"
      },
      "execution_count": null,
      "outputs": []
    },
    {
      "cell_type": "markdown",
      "source": [
        "159. Each of these commands returns a Boolean `True` or `False` value.\n",
        "\n",
        "160. Notice the last command returned `False` because the `in` operator is looking at keys, not values in the dictionary.\n",
        "\n",
        "161. We can use the `.keys()` method to get a list of all keys in the dictionary."
      ],
      "metadata": {
        "id": "Kz0itlf0_vTl"
      }
    },
    {
      "cell_type": "code",
      "source": [
        "# output keys in dictionary\n",
        "print(english_to_french.keys())"
      ],
      "metadata": {
        "id": "8kB11EUU_v_B"
      },
      "execution_count": null,
      "outputs": []
    },
    {
      "cell_type": "markdown",
      "source": [
        "162. We can use the `.values()` method to get a list of all the values in the dictionary.\n"
      ],
      "metadata": {
        "id": "lA3X4ReZ_yQE"
      }
    },
    {
      "cell_type": "code",
      "source": [
        "# output values in dictionary\n",
        "print(english_to_french.values())"
      ],
      "metadata": {
        "id": "tHsqmrWT_zXq"
      },
      "execution_count": null,
      "outputs": []
    },
    {
      "cell_type": "markdown",
      "source": [
        "163. We can also add key-value pairs to our dictionary using the index operator and an assignment statement.\n",
        "\n",
        "164. To see that in Python syntax:"
      ],
      "metadata": {
        "id": "ScQ0jvtk_0oS"
      }
    },
    {
      "cell_type": "code",
      "source": [
        "# add key-values pairs to dictionary\n",
        "english_to_french['six']   = 'six'\n",
        "english_to_french['seven'] = 'sept'\n",
        "english_to_french['eight'] = 'huit'\n",
        "english_to_french['nine']  = 'neuf'\n",
        "english_to_french['ten']   = 'dix'\n",
        "\n",
        "# show updated dictionary\n",
        "print(english_to_french)"
      ],
      "metadata": {
        "id": "sANga7Is_1gZ"
      },
      "execution_count": null,
      "outputs": []
    },
    {
      "cell_type": "markdown",
      "source": [
        "165. The first part of each line of code creates a new key and assigns the value (the string to the right of the assignment operator, or equals sign) to that key, giving us a new key-value pair.\n",
        "\n",
        "## Iteration and Dictionaries\n",
        "\n",
        "166. The previous lab talked about the concept of \"iteration,\" and we're going to see it at work here as well.\n",
        "\n",
        "167. Say we wanted to iterate by keys through our dictionary.\n",
        "\n",
        "168. We could use a `for` loop to tell Python \"`FOR` each key-value pair in my dictionary...do this thing!\"\n",
        "\n",
        "169. An example that tells Python to print the key for each key-value pair."
      ],
      "metadata": {
        "id": "_PaIbXCd_2o0"
      }
    },
    {
      "cell_type": "code",
      "source": [
        "# for loop that outputs keys\n",
        "for key in english_to_french.keys():\n",
        "  print(key)"
      ],
      "metadata": {
        "id": "jFK0H_J-_33C"
      },
      "execution_count": null,
      "outputs": []
    },
    {
      "cell_type": "markdown",
      "source": [
        "170. We could modify the print statement nested in the for loop to output the key and value.\n"
      ],
      "metadata": {
        "id": "rCeG3F1l_4ep"
      }
    },
    {
      "cell_type": "code",
      "source": [
        "# for loop that outputs key-value pairs\n",
        "for key in english_to_french.keys():\n",
        "  print(key, english_to_french[key])"
      ],
      "metadata": {
        "id": "NKg2ovpa_5Pl"
      },
      "execution_count": null,
      "outputs": []
    },
    {
      "cell_type": "markdown",
      "source": [
        "171. And, we wouldn't actually need to use the `.keys()` method when iterating by keys.\n"
      ],
      "metadata": {
        "id": "qIq3xRDv_5yV"
      }
    },
    {
      "cell_type": "code",
      "source": [
        "# alternate syntax for outputting key-value pairs\n",
        "for key in english_to_french:\n",
        "  print(key, english_to_french[key])"
      ],
      "metadata": {
        "id": "8_nloNmR_6pK"
      },
      "execution_count": null,
      "outputs": []
    },
    {
      "cell_type": "markdown",
      "source": [
        "172. We can also iterate by key-value pairs, using the `.items()` method.\n"
      ],
      "metadata": {
        "id": "Wvu09MwJ_7Xl"
      }
    },
    {
      "cell_type": "code",
      "source": [
        "# for loop that outputs key-value pairs using items\n",
        "for key, value, in english_to_french.items():\n",
        "  print(key, value)"
      ],
      "metadata": {
        "id": "40maH5By_8I2"
      },
      "execution_count": null,
      "outputs": []
    },
    {
      "cell_type": "markdown",
      "source": [
        "173. In this example, we told Python to look at the key and value in each key-value pair and print the pair.\n",
        "\n",
        "## Dictionary Lab Notebook Question\n",
        "\n",
        "Q17: Create a dictionary on a topic of your choosing. Include at least 7 key-value pairs.\n",
        "<ol type=\"a\">\n",
        " <li>Add new elements to your dictionary.</li>\n",
        " <li>Update an element in your dictionary.</li>\n",
        " <li>Print a list of all the keys in your dictionary.</li>\n",
        " <li>Print a list of all the values in your dictionary.</li>"
      ],
      "metadata": {
        "id": "yUHhKdi9_9cY"
      }
    },
    {
      "cell_type": "markdown",
      "source": [
        "# Sets\n",
        "\n",
        "<table>\n",
        " <tr><td>\n",
        "<img src=\"https://elearn.southampton.ac.uk/wp-content/blogs.dir/sites/64/2021/04/PanPan.png\" alt=\"Panopto logo\" width=\"50\"/></td>\n",
        "  <td><a href=\"https://notredame.hosted.panopto.com/Panopto/Pages/Viewer.aspx?id=5a24f407-5860-4d8b-8aea-ad8201622e0f\">Sets</a></td>\n",
        "  </tr>\n",
        "  </table>\n",
        "\n",
        "174. A set is an unordered collection of unique objects. Sets are primarily used to see if an object or value is in the collection (membership).\n",
        "\n",
        "<p align=\"center\"><a href=\"https://github.com/kwaldenphd/python-dictionaries-sets/blob/master/figures/Sets.png?raw=true\"><img class=\"aligncenter\" src=\"https://github.com/kwaldenphd/python-dictionaries-sets/blob/master/figures/Sets.png?raw=true\" /></a></p>\n",
        "\n",
        "175. There are many different types of set operations, but this lab is just going to focus on testing for membership.\n",
        "\n",
        "176. That is, looking to see if a particular value is `in` a set.\n",
        "\n",
        "177. HINT: We've seen `in` operators before...\n"
      ],
      "metadata": {
        "id": "Hvyqvs8LAIjZ"
      }
    },
    {
      "cell_type": "markdown",
      "source": [
        "## Creating Sets \n",
        "\n",
        "178. We can create the set using `set()`"
      ],
      "metadata": {
        "id": "M5JyO2Z1AJsj"
      }
    },
    {
      "cell_type": "code",
      "source": [
        "# create empty set and assign to s variable\n",
        "s = set()\n",
        "\n",
        "# check s variable type\n",
        "type(s)\n",
        "\n",
        "# create set with values\n",
        "s = set([0,1,2])\n",
        "\n",
        "# show set values\n",
        "s"
      ],
      "metadata": {
        "id": "3ET5_GtbAKZS"
      },
      "execution_count": null,
      "outputs": []
    },
    {
      "cell_type": "markdown",
      "source": [
        "## Testing for Membership\n",
        "\n",
        "179. Now that we have a set with values, we can test for membership using the `in` operator."
      ],
      "metadata": {
        "id": "ALKrulM_ALU-"
      }
    },
    {
      "cell_type": "code",
      "source": [
        "# create set with values\n",
        "s = set([0, 1, 2])\n",
        "\n",
        "# test if 0 is in s\n",
        "0 in s\n",
        "\n",
        "# test if 7 is in s\n",
        "7 in s"
      ],
      "metadata": {
        "id": "BsNrG-oxAL-1"
      },
      "execution_count": null,
      "outputs": []
    },
    {
      "cell_type": "markdown",
      "source": [
        "180. The last two lines of code return Boolean `True` or `False` statements.\n",
        "\n",
        "## Adding and Removing Items \n",
        "\n",
        "181. We can add items to our set using `.add()`."
      ],
      "metadata": {
        "id": "UbB1yqHSANJm"
      }
    },
    {
      "cell_type": "code",
      "source": [
        "# create empty set\n",
        "s = set()\n",
        "\n",
        "# add values to set\n",
        "s.add(0)\n",
        "s.add(1)\n",
        "s.add(2)\n",
        "\n",
        "# show new set with values\n",
        "s"
      ],
      "metadata": {
        "id": "erfrUibjAOPc"
      },
      "execution_count": null,
      "outputs": []
    },
    {
      "cell_type": "markdown",
      "source": [
        "182. We can also remove values from our set using `.remove()`.\n"
      ],
      "metadata": {
        "id": "NZ89I2LSAO9H"
      }
    },
    {
      "cell_type": "code",
      "source": [
        "# create set with values\n",
        "s = set([0, 1, 2])\n",
        "\n",
        "# remove 1 number value from set\n",
        "s.remove(1)\n",
        "\n",
        "# show updated set\n",
        "s"
      ],
      "metadata": {
        "id": "6ncRb5zmAPsW"
      },
      "execution_count": null,
      "outputs": []
    },
    {
      "cell_type": "markdown",
      "source": [
        "## Set Lab Notebook Question\n",
        "\n",
        "Q18: Create the set `s` with the following values: `[1, 3, 5, 7, 9]`\n",
        "<ol type=\"a\">\n",
        "  <li>Test to see if the value <code>11</code> is a member of the set.</li>\n",
        "  <li>Test to see if the value <code>7</code> is a member of the set.</li>\n",
        "  <li>Add a value to the set.</li>\n",
        "  <li>Remove a value from the set.</li>\n",
        " </ol>\n"
      ],
      "metadata": {
        "id": "X03Vnn78AQyl"
      }
    },
    {
      "cell_type": "code",
      "source": [
        "# Additional Lab Notebook Questions\n",
        "\n",
        "Q19: What is the difference between a `list` and a `dict`? When would we prefer one over the other?\n",
        "\n",
        "Q20: What is the difference between a `dict` and a `set`? When would we prefer one over the other?"
      ],
      "metadata": {
        "id": "e3kshcyJARv6"
      },
      "execution_count": null,
      "outputs": []
    },
    {
      "cell_type": "markdown",
      "source": [
        "# How to submit this lab (and show your work)\n",
        "\n",
        "Moving forward, we'll submit lab notebooks as `.py` files. \n",
        "\n",
        "One option is to have a `.py` file that you use to run code and test programs while working through the lab. When ready to submit the lab notebook, you add comments and remove extraneous materials.\n",
        "\n",
        "Another option is to have an \"official\" `.py` file that you are using as a lab notebook (separate from your working/testing file). Use comments in Python to note when you are starting a new question (as well as answering a question).\n",
        "  * Example: `Lab5_Notebook_Walden.py`\n",
        "\n",
        "What gets submitted as the lab notebook is the `Lab5_Notebook_Walden.py` file.\n",
        "- When in doubt, use comments\n",
        "- Be sure you are using comments to note what question you're responding to\n",
        " "
      ],
      "metadata": {
        "id": "_YGpZUat49Uf"
      }
    },
    {
      "cell_type": "markdown",
      "source": [
        "# Lab Notebook Questions\n",
        "\n",
        "Lab notebook template:\n",
        "- [`.py` file](https://drive.google.com/file/d/1GrrOAcDbYlrRbLADh1bb2b3jbZUsnx6o/view?usp=sharing)\n",
        "- [Jupyter Notebook](https://colab.research.google.com/drive/1MMdu-e1YCynl8Xy17jh2NCLIQEOcUlZX?usp=sharing)\n",
        "\n",
        "Q1: In your own words, explain the difference between `print(hello)` and `print(“hello”)`.\n",
        "\n",
        "Q2: Describe the syntax of the three commands that we just used (steps 14-18) in your own words. What is this code doing? Define the function and method for each example.\n",
        "\n",
        "Q3: Explain how each of these two programs (steps 15-18) work in your own words.\n",
        "\n",
        "Q4: Why does `print(2//3)` return `0`? How would you modify your code to return the decimal number? Why?\n",
        "\n",
        "Q5: Explain concatenation in your own words. Why must we convert numbers to strings in the program above? Refer to this example and the previous example.\n",
        "\n",
        "Q6: Write a program that converts integer, float, or boolean values to a string, using the `str()` function.\n",
        "\n",
        "Q7: Write a program that prompts the user to enter a 6-letter word, and then prints the first, third, and fifth letters of that word.\n",
        "\n",
        "Q8: Modify the program to have it search for other characters in the string. Does it always return the index number you expect? What index is returned if you ask for the index of the letter u (i.e., what happens when the desired character appears more than once in the string)?\n",
        "\n",
        "Q9: How would you modify this code to output the full range 1-10?\n",
        "\n",
        "Q10: How would you rewrite the code to include only the even numbers from 1 to 10?\n",
        "\n",
        "Q11: Create the list `numbers` with the following values: `[[0, 1], [2, 3], [4, 5]]`\n",
        "<ol type=\"a\">\n",
        "  <li>What is the second element?</li>\n",
        "  <li>How would you change 4 to 'four'?</li>\n",
        "  <li>How would you change 1 to 'one'?</li>\n",
        "  <li>How would you print out each sub-list (one sub-list per line)?</li>\n",
        "  <li>How would you print out each number (one number per line)?</li>\n",
        " </ol>\n",
        "\n",
        "Q12: Create your own list of numbers. Include your list code as part of this question answer. What is the length of your list? What is the number position for each of the items in your list? How would you return the value of the first item? How would you return the value of the last item?\n",
        "\n",
        "Q13: Using the same list from the previous question, write a program that includes the following steps or components:\n",
        "- Adds a new item to your list\n",
        "- Deletes an item from your list\n",
        "- Sorts your list in-place\n",
        "- Generates a sorted version of your list\n",
        "- Reverses your list in-place\n",
        "- Determines the `min` and `max` values for your list\n",
        "- Selects a list element at random\n",
        "- Shuffles your list\n",
        "\n",
        "Q14: Create your own list of strings. Include your list code as part of this question answer. What is the length of your list? What is the number position for each of the items in your list? How would you return the value of the first item? How would you return the value of the last item?\n",
        "\n",
        "Q15: Using the same list from the previous question, write a program that includes the following steps or components:\n",
        "- Adds a new item to your list\n",
        "- Deletes an item from your list\n",
        "- Sorts your list in-place\n",
        "- Generates a sorted version of your list\n",
        "- Reverses your list in-place\n",
        "- Determines the `min` and `max` values for your list\n",
        "- Selects a list element at random\n",
        "- Shuffles your list\n",
        "\n",
        "Q16: What is the difference between a `list` and a `string`? What are some methods you can perform on a `list` that you can't do with a `string` (and vice versa)?\n",
        "\n",
        "Q17: Create a dictionary on a topic of your choosing. Include at least 7 key-value pairs.\n",
        "<ol type=\"a\">\n",
        " <li>Add new elements to your dictionary.</li>\n",
        " <li>Update an element in your dictionary.</li>\n",
        " <li>Print a list of all the keys in your dictionary.</li>\n",
        " <li>Print a list of all the values in your dictionary.</li>\n",
        " </ol>\n",
        "\n",
        "Q18: Create the set `s` with the following values: `[1, 3, 5, 7, 9]`\n",
        "<ol type=\"a\">\n",
        "  <li>Test to see if the value <code>11</code> is a member of the set.</li>\n",
        "  <li>Test to see if the value <code>7</code> is a member of the set.</li>\n",
        "  <li>Add a value to the set.</li>\n",
        "  <li>Remove a value from the set.</li>\n",
        " </ol>\n",
        "  \n",
        "Q19: What is the difference between a `list` and a `dict`? When would we prefer one over the other?\n",
        "\n",
        "Q20: What is the difference between a `dict` and a `set`? When would we prefer one over the other?"
      ],
      "metadata": {
        "id": "KoH9pBiq5AqY"
      }
    }
  ],
  "metadata": {
    "kernelspec": {
      "display_name": "Python 3",
      "language": "python",
      "name": "python3"
    },
    "language_info": {
      "codemirror_mode": {
        "name": "ipython",
        "version": 3
      },
      "file_extension": ".py",
      "mimetype": "text/x-python",
      "name": "python",
      "nbconvert_exporter": "python",
      "pygments_lexer": "ipython3",
      "version": "3.8.8"
    },
    "colab": {
      "name": "python-lists-strings-dicts-sets-combined-procedure.ipynb",
      "provenance": [],
      "toc_visible": true,
      "include_colab_link": true
    }
  },
  "nbformat": 4,
  "nbformat_minor": 0
}